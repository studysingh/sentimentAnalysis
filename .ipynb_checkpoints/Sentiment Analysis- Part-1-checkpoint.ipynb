{
 "cells": [
  {
   "cell_type": "markdown",
   "id": "44c70337",
   "metadata": {},
   "source": [
    "# 1. Load The Tweets Dataset "
   ]
  },
  {
   "cell_type": "code",
   "execution_count": 1,
   "id": "1c6d6b10",
   "metadata": {},
   "outputs": [],
   "source": [
    "import pandas as pd\n",
    "pd.set_option(\"display.max_colwidth\", 200)"
   ]
  },
  {
   "cell_type": "code",
   "execution_count": 2,
   "id": "8d002621",
   "metadata": {},
   "outputs": [
    {
     "data": {
      "text/html": [
       "<div>\n",
       "<style scoped>\n",
       "    .dataframe tbody tr th:only-of-type {\n",
       "        vertical-align: middle;\n",
       "    }\n",
       "\n",
       "    .dataframe tbody tr th {\n",
       "        vertical-align: top;\n",
       "    }\n",
       "\n",
       "    .dataframe thead th {\n",
       "        text-align: right;\n",
       "    }\n",
       "</style>\n",
       "<table border=\"1\" class=\"dataframe\">\n",
       "  <thead>\n",
       "    <tr style=\"text-align: right;\">\n",
       "      <th></th>\n",
       "      <th>id</th>\n",
       "      <th>label</th>\n",
       "      <th>tweet</th>\n",
       "    </tr>\n",
       "  </thead>\n",
       "  <tbody>\n",
       "    <tr>\n",
       "      <th>0</th>\n",
       "      <td>1</td>\n",
       "      <td>0</td>\n",
       "      <td>#fingerprint #Pregnancy Test https://goo.gl/h1MfQV #android #apps #beautiful #cute #health #igers #iphoneonly #iphonesia #iphone</td>\n",
       "    </tr>\n",
       "    <tr>\n",
       "      <th>1</th>\n",
       "      <td>2</td>\n",
       "      <td>0</td>\n",
       "      <td>Finally a transparant silicon case ^^ Thanks to my uncle :) #yay #Sony #Xperia #S #sonyexperias… http://instagram.com/p/YGEt5JC6JM/</td>\n",
       "    </tr>\n",
       "    <tr>\n",
       "      <th>2</th>\n",
       "      <td>3</td>\n",
       "      <td>0</td>\n",
       "      <td>We love this! Would you go? #talk #makememories #unplug #relax #iphone #smartphone #wifi #connect... http://fb.me/6N3LsUpCu</td>\n",
       "    </tr>\n",
       "    <tr>\n",
       "      <th>3</th>\n",
       "      <td>4</td>\n",
       "      <td>0</td>\n",
       "      <td>I'm wired I know I'm George I was made that way ;) #iphone #cute #daventry #home http://instagr.am/p/Li_5_ujS4k/</td>\n",
       "    </tr>\n",
       "    <tr>\n",
       "      <th>4</th>\n",
       "      <td>5</td>\n",
       "      <td>1</td>\n",
       "      <td>What amazing service! Apple won't even talk to me about a question I have unless I pay them $19.95 for their stupid support!</td>\n",
       "    </tr>\n",
       "  </tbody>\n",
       "</table>\n",
       "</div>"
      ],
      "text/plain": [
       "   id  label  \\\n",
       "0   1      0   \n",
       "1   2      0   \n",
       "2   3      0   \n",
       "3   4      0   \n",
       "4   5      1   \n",
       "\n",
       "                                                                                                                                 tweet  \n",
       "0     #fingerprint #Pregnancy Test https://goo.gl/h1MfQV #android #apps #beautiful #cute #health #igers #iphoneonly #iphonesia #iphone  \n",
       "1  Finally a transparant silicon case ^^ Thanks to my uncle :) #yay #Sony #Xperia #S #sonyexperias… http://instagram.com/p/YGEt5JC6JM/  \n",
       "2          We love this! Would you go? #talk #makememories #unplug #relax #iphone #smartphone #wifi #connect... http://fb.me/6N3LsUpCu  \n",
       "3                     I'm wired I know I'm George I was made that way ;) #iphone #cute #daventry #home http://instagr.am/p/Li_5_ujS4k/  \n",
       "4         What amazing service! Apple won't even talk to me about a question I have unless I pay them $19.95 for their stupid support!  "
      ]
     },
     "execution_count": 2,
     "metadata": {},
     "output_type": "execute_result"
    }
   ],
   "source": [
    "data = pd.read_csv('tweets.csv')\n",
    "data.head()"
   ]
  },
  {
   "cell_type": "code",
   "execution_count": 3,
   "id": "377d93bf",
   "metadata": {},
   "outputs": [],
   "source": [
    "# 0 refers to positive sentiment, 1 is negative sentiment"
   ]
  },
  {
   "cell_type": "code",
   "execution_count": 4,
   "id": "607aab79",
   "metadata": {},
   "outputs": [
    {
     "name": "stdout",
     "output_type": "stream",
     "text": [
      "<class 'pandas.core.frame.DataFrame'>\n",
      "RangeIndex: 7920 entries, 0 to 7919\n",
      "Data columns (total 3 columns):\n",
      " #   Column  Non-Null Count  Dtype \n",
      "---  ------  --------------  ----- \n",
      " 0   id      7920 non-null   int64 \n",
      " 1   label   7920 non-null   int64 \n",
      " 2   tweet   7920 non-null   object\n",
      "dtypes: int64(2), object(1)\n",
      "memory usage: 185.8+ KB\n"
     ]
    }
   ],
   "source": [
    "data.info()"
   ]
  },
  {
   "cell_type": "code",
   "execution_count": 5,
   "id": "25e83372",
   "metadata": {},
   "outputs": [
    {
     "data": {
      "text/plain": [
       "id       0\n",
       "label    0\n",
       "tweet    0\n",
       "dtype: int64"
      ]
     },
     "execution_count": 5,
     "metadata": {},
     "output_type": "execute_result"
    }
   ],
   "source": [
    "# check for missing values\n",
    "data.isnull().sum()"
   ]
  },
  {
   "cell_type": "code",
   "execution_count": 6,
   "id": "3a762be5",
   "metadata": {},
   "outputs": [
    {
     "data": {
      "text/html": [
       "<div>\n",
       "<style scoped>\n",
       "    .dataframe tbody tr th:only-of-type {\n",
       "        vertical-align: middle;\n",
       "    }\n",
       "\n",
       "    .dataframe tbody tr th {\n",
       "        vertical-align: top;\n",
       "    }\n",
       "\n",
       "    .dataframe thead th {\n",
       "        text-align: right;\n",
       "    }\n",
       "</style>\n",
       "<table border=\"1\" class=\"dataframe\">\n",
       "  <thead>\n",
       "    <tr style=\"text-align: right;\">\n",
       "      <th></th>\n",
       "      <th>id</th>\n",
       "      <th>label</th>\n",
       "      <th>tweet</th>\n",
       "    </tr>\n",
       "  </thead>\n",
       "  <tbody>\n",
       "    <tr>\n",
       "      <th>0</th>\n",
       "      <td>1</td>\n",
       "      <td>0</td>\n",
       "      <td>#fingerprint #Pregnancy Test https://goo.gl/h1MfQV #android #apps #beautiful #cute #health #igers #iphoneonly #iphonesia #iphone</td>\n",
       "    </tr>\n",
       "    <tr>\n",
       "      <th>1</th>\n",
       "      <td>2</td>\n",
       "      <td>0</td>\n",
       "      <td>Finally a transparant silicon case ^^ Thanks to my uncle :) #yay #Sony #Xperia #S #sonyexperias… http://instagram.com/p/YGEt5JC6JM/</td>\n",
       "    </tr>\n",
       "    <tr>\n",
       "      <th>2</th>\n",
       "      <td>3</td>\n",
       "      <td>0</td>\n",
       "      <td>We love this! Would you go? #talk #makememories #unplug #relax #iphone #smartphone #wifi #connect... http://fb.me/6N3LsUpCu</td>\n",
       "    </tr>\n",
       "    <tr>\n",
       "      <th>3</th>\n",
       "      <td>4</td>\n",
       "      <td>0</td>\n",
       "      <td>I'm wired I know I'm George I was made that way ;) #iphone #cute #daventry #home http://instagr.am/p/Li_5_ujS4k/</td>\n",
       "    </tr>\n",
       "    <tr>\n",
       "      <th>4</th>\n",
       "      <td>5</td>\n",
       "      <td>1</td>\n",
       "      <td>What amazing service! Apple won't even talk to me about a question I have unless I pay them $19.95 for their stupid support!</td>\n",
       "    </tr>\n",
       "  </tbody>\n",
       "</table>\n",
       "</div>"
      ],
      "text/plain": [
       "   id  label  \\\n",
       "0   1      0   \n",
       "1   2      0   \n",
       "2   3      0   \n",
       "3   4      0   \n",
       "4   5      1   \n",
       "\n",
       "                                                                                                                                 tweet  \n",
       "0     #fingerprint #Pregnancy Test https://goo.gl/h1MfQV #android #apps #beautiful #cute #health #igers #iphoneonly #iphonesia #iphone  \n",
       "1  Finally a transparant silicon case ^^ Thanks to my uncle :) #yay #Sony #Xperia #S #sonyexperias… http://instagram.com/p/YGEt5JC6JM/  \n",
       "2          We love this! Would you go? #talk #makememories #unplug #relax #iphone #smartphone #wifi #connect... http://fb.me/6N3LsUpCu  \n",
       "3                     I'm wired I know I'm George I was made that way ;) #iphone #cute #daventry #home http://instagr.am/p/Li_5_ujS4k/  \n",
       "4         What amazing service! Apple won't even talk to me about a question I have unless I pay them $19.95 for their stupid support!  "
      ]
     },
     "execution_count": 6,
     "metadata": {},
     "output_type": "execute_result"
    }
   ],
   "source": [
    "# drop the id column\n",
    "# data.drop(['id'], axis=1, inplace=True)\n",
    "data.head()"
   ]
  },
  {
   "cell_type": "code",
   "execution_count": 7,
   "id": "5fef08e2",
   "metadata": {},
   "outputs": [
    {
     "data": {
      "text/plain": [
       "label\n",
       "0    0.744192\n",
       "1    0.255808\n",
       "Name: proportion, dtype: float64"
      ]
     },
     "execution_count": 7,
     "metadata": {},
     "output_type": "execute_result"
    }
   ],
   "source": [
    "# Check for the class balance\n",
    "data['label'].value_counts(normalize=True)"
   ]
  },
  {
   "cell_type": "code",
   "execution_count": 8,
   "id": "da964ccc",
   "metadata": {},
   "outputs": [
    {
     "data": {
      "text/plain": [
       "<Axes: xlabel='label'>"
      ]
     },
     "execution_count": 8,
     "metadata": {},
     "output_type": "execute_result"
    },
    {
     "data": {
      "image/png": "[encoded data removed]",
      "text/plain": [
       "<Figure size 640x480 with 1 Axes>"
      ]
     },
     "metadata": {},
     "output_type": "display_data"
    }
   ],
   "source": [
    "# plot the label counts \n",
    "data['label'].value_counts().plot(kind='bar')"
   ]
  },
  {
   "cell_type": "markdown",
   "id": "2ebe7934",
   "metadata": {},
   "source": [
    "# 2. Data Cleaning"
   ]
  },
  {
   "cell_type": "code",
   "execution_count": 9,
   "id": "864cb495",
   "metadata": {},
   "outputs": [
    {
     "data": {
      "text/plain": [
       "\"It's time for new wallpapers #phone #wallpapers #wall #screen #galaxy #samsung #app … https://www.instagram.com/p/BcsKTNNn51c/\""
      ]
     },
     "execution_count": 9,
     "metadata": {},
     "output_type": "execute_result"
    }
   ],
   "source": [
    "data['tweet'][24]"
   ]
  },
  {
   "cell_type": "code",
   "execution_count": 10,
   "id": "29638830",
   "metadata": {},
   "outputs": [],
   "source": [
    "import re"
   ]
  },
  {
   "cell_type": "code",
   "execution_count": 11,
   "id": "e21a6b13",
   "metadata": {},
   "outputs": [
    {
     "data": {
      "text/plain": [
       "'It is time for new wallpapers #phone #wallpapers #wall #screen #galaxy #samsung #app … https://www.instagram.com/p/BcsKTNNn51c/'"
      ]
     },
     "execution_count": 11,
     "metadata": {},
     "output_type": "execute_result"
    }
   ],
   "source": [
    "# Substitute 's with \" is\" \n",
    "re.sub(r\"'s\\b\", \" is\", data['tweet'][24])"
   ]
  },
  {
   "cell_type": "code",
   "execution_count": 12,
   "id": "cd7dcd23",
   "metadata": {},
   "outputs": [
    {
     "data": {
      "text/plain": [
       "'Ha! Not heavy machinery but it does what I need it to. @Apple really dropped the ball with that design. #drinkyourhaterade'"
      ]
     },
     "execution_count": 12,
     "metadata": {},
     "output_type": "execute_result"
    }
   ],
   "source": [
    "# Removing the user mentions\n",
    "data['tweet'][11]"
   ]
  },
  {
   "cell_type": "code",
   "execution_count": 13,
   "id": "6376ce28",
   "metadata": {},
   "outputs": [
    {
     "data": {
      "text/plain": [
       "'Ha! Not heavy machinery but it does what I need it to.  really dropped the ball with that design. #drinkyourhaterade'"
      ]
     },
     "execution_count": 13,
     "metadata": {},
     "output_type": "execute_result"
    }
   ],
   "source": [
    "# We'll retain on the alphabets & digits\n",
    "re.sub(\"@[A-Za-z0-9]+\", \"\", data['tweet'][11])"
   ]
  },
  {
   "cell_type": "code",
   "execution_count": 14,
   "id": "dfef97f7",
   "metadata": {},
   "outputs": [
    {
     "data": {
      "text/plain": [
       "'#fingerprint #Pregnancy Test https://goo.gl/h1MfQV #android #apps #beautiful #cute #health #igers #iphoneonly #iphonesia #iphone'"
      ]
     },
     "execution_count": 14,
     "metadata": {},
     "output_type": "execute_result"
    }
   ],
   "source": [
    "# remive the hashtags\n",
    "data['tweet'][0]"
   ]
  },
  {
   "cell_type": "code",
   "execution_count": 15,
   "id": "414a68ed",
   "metadata": {},
   "outputs": [
    {
     "data": {
      "text/plain": [
       "'fingerprint Pregnancy Test https://goo.gl/h1MfQV android apps beautiful cute health igers iphoneonly iphonesia iphone'"
      ]
     },
     "execution_count": 15,
     "metadata": {},
     "output_type": "execute_result"
    }
   ],
   "source": [
    "re.sub(\"#\", \"\", data['tweet'][0])"
   ]
  },
  {
   "cell_type": "code",
   "execution_count": 16,
   "id": "d228f1a8",
   "metadata": {},
   "outputs": [
    {
     "data": {
      "text/plain": [
       "'#fingerprint #Pregnancy Test  #android #apps #beautiful #cute #health #igers #iphoneonly #iphonesia #iphone'"
      ]
     },
     "execution_count": 16,
     "metadata": {},
     "output_type": "execute_result"
    }
   ],
   "source": [
    "# Removing the hyperlinks\n",
    "re.sub(r\"http\\S+\", \"\", data['tweet'][0])"
   ]
  },
  {
   "cell_type": "code",
   "execution_count": 17,
   "id": "6db434b8",
   "metadata": {},
   "outputs": [
    {
     "data": {
      "text/plain": [
       "'1.05 billion for 3 patents where there is prior art = 300 millions each = patent trolls are partying now thanks to Apple #apple'"
      ]
     },
     "execution_count": 17,
     "metadata": {},
     "output_type": "execute_result"
    }
   ],
   "source": [
    "# Retain on the alphabets (get rid of punctuations, special char, digits)\n",
    "data['tweet'][25]"
   ]
  },
  {
   "cell_type": "code",
   "execution_count": 18,
   "id": "39aba7ae",
   "metadata": {},
   "outputs": [
    {
     "data": {
      "text/plain": [
       "' fingerprint  Pregnancy Test https   goo gl h MfQV  android  apps  beautiful  cute  health  igers  iphoneonly  iphonesia  iphone'"
      ]
     },
     "execution_count": 18,
     "metadata": {},
     "output_type": "execute_result"
    }
   ],
   "source": [
    "re.sub(r\"[^a-zA-Z]\", \" \", data['tweet'][0])"
   ]
  },
  {
   "cell_type": "code",
   "execution_count": 19,
   "id": "64848c44",
   "metadata": {},
   "outputs": [],
   "source": [
    "# Stop words Removal\n",
    "import nltk\n",
    "from nltk.corpus import stopwords"
   ]
  },
  {
   "cell_type": "code",
   "execution_count": 20,
   "id": "e791f4e7",
   "metadata": {},
   "outputs": [
    {
     "name": "stdout",
     "output_type": "stream",
     "text": [
      "{'than', 'hasn', 'having', 'above', 'can', \"haven't\", \"mightn't\", 've', 'are', 'for', \"wouldn't\", 'aren', 'too', 'needn', 'some', \"you'll\", 'before', \"didn't\", 'you', 'didn', 'its', 'myself', 'between', 'am', 'about', 'in', \"hasn't\", 'have', 'does', 'd', 'weren', 'out', 'against', 'been', 'once', \"won't\", 'had', 'any', \"needn't\", 'ours', 'an', 's', 'down', 'until', 'shan', 'i', 'that', \"shan't\", 'when', 'his', 'now', 'only', 'theirs', 'ma', 'who', 'so', 'other', 'him', \"couldn't\", 'hadn', \"hadn't\", \"aren't\", 'their', 'was', 'them', 'with', 'wouldn', 'my', 'be', 'yours', 'or', 'ain', 'and', 'here', 'to', 'all', 'isn', \"weren't\", 'as', 'being', 'itself', 'no', 'same', 'but', \"that'll\", 'both', 'he', 'more', 'your', 'll', 'will', 'just', \"you've\", 'over', 'into', 'up', \"isn't\", 'me', 'there', 'off', 'she', 'whom', 'by', 'at', 'himself', 'if', 'very', \"you'd\", 'of', 'each', 'not', 'those', 'own', 'm', 'don', 't', 'haven', 'yourself', \"should've\", 'they', 'shouldn', 'such', 'couldn', 'mightn', 'is', 'during', 're', \"you're\", \"she's\", \"doesn't\", 'after', 'y', 'few', 'themselves', 'these', 'again', 'then', 'below', \"it's\", 'which', 'through', 'a', 'why', 'how', 'has', \"mustn't\", \"wasn't\", 'won', 'it', 'from', \"don't\", 'most', 'were', 'this', 'hers', 'under', \"shouldn't\", 'doesn', 'should', 'o', 'our', 'nor', 'further', 'wasn', 'her', 'on', 'the', 'mustn', 'herself', 'ourselves', 'yourselves', 'doing', 'do', 'because', 'while', 'did', 'what', 'we', 'where'}\n"
     ]
    }
   ],
   "source": [
    "nltk_stopwords = set(stopwords.words('english'))\n",
    "print(nltk_stopwords)"
   ]
  },
  {
   "cell_type": "code",
   "execution_count": 21,
   "id": "f4ae7f75",
   "metadata": {},
   "outputs": [
    {
     "data": {
      "text/plain": [
       "179"
      ]
     },
     "execution_count": 21,
     "metadata": {},
     "output_type": "execute_result"
    }
   ],
   "source": [
    "len(nltk_stopwords)"
   ]
  },
  {
   "cell_type": "code",
   "execution_count": 22,
   "id": "3a8095da",
   "metadata": {},
   "outputs": [
    {
     "name": "stdout",
     "output_type": "stream",
     "text": [
      "{'anyone', 'hereupon', 'without', 'for', 'either', 'too', 'often', 'somehow', 'formerly', 'thereupon', 'nowhere', 'although', 'between', 'whereafter', 'about', 'call', 'fifty', 'beside', 'have', 'wherein', 'out', 'alone', 'couldnt', 'whether', 'had', 'around', 'whenever', 'any', 'always', 'eight', 'sometime', 'find', 'an', 'beforehand', 'whence', 'even', 'down', 'ie', 'whose', 'i', 'that', 'his', 'namely', 'less', 'seeming', 'meanwhile', 'please', 'who', 'afterwards', 'fill', 'hence', 'so', 'other', 'him', 'interest', 'still', 'thus', 'noone', 'much', 'something', 'be', 'bottom', 'and', 'three', 'everyone', 'etc', 'here', 'though', 'made', 'all', 'sometimes', 'being', 'whither', 'co', 'would', 'toward', 'both', 'well', 'whoever', 'he', 'yet', 'seems', 'over', 'system', 'into', 'mill', 'together', 'nobody', 'except', 'by', 'whereby', 'ltd', 'himself', 'cant', 'amongst', 'very', 'becomes', 'twenty', 'each', 'become', 'of', 'those', 'con', 'wherever', 'everywhere', 'else', 'hundred', 'besides', 'yourself', 'via', 'forty', 'they', 'mine', 'someone', 'anything', 'is', 'seemed', 'whereas', 'ever', 're', 'since', 'behind', 'somewhere', 'thru', 'themselves', 'again', 'then', 'below', 'may', 'first', 'through', 'none', 'a', 'how', 'has', 'eleven', 'former', 'done', 'seem', 'herein', 'thin', 'latter', 'serious', 'neither', 'this', 'every', 'get', 'nor', 'give', 'six', 'take', 'ourselves', 'yourselves', 'eg', 'five', 'part', 'rather', 'where', 'name', 'than', 'twelve', 'anyhow', 'nothing', 'many', 'otherwise', 'elsewhere', 'above', 'everything', 'can', 'are', 'some', 'however', 'fire', 'before', 'you', 'go', 'its', 'myself', 'am', 'in', 'moreover', 'across', 'almost', 'us', 'along', 'cannot', 'within', 'several', 'front', 'last', 'against', 'been', 'once', 'already', 'never', 'two', 'another', 'ours', 'detail', 'becoming', 'until', 'when', 'now', 'one', 'only', 'towards', 'least', 'un', 'show', 'move', 'top', 'must', 'their', 'them', 'was', 'with', 'bill', 'amoungst', 'my', 'upon', 'or', 'yours', 'thereby', 'fifteen', 'to', 'as', 'therein', 'amount', 'itself', 'found', 'no', 'thick', 'same', 'thereafter', 'but', 'could', 'ten', 'might', 'more', 'nevertheless', 'your', 'empty', 'full', 'onto', 'will', 'enough', 'whole', 'back', 'de', 'sixty', 'side', 'third', 'up', 'cry', 'there', 'me', 'off', 'she', 'hereafter', 'beyond', 'whom', 'at', 'if', 'became', 'next', 'not', 'sincere', 'hasnt', 'own', 'thence', 'latterly', 'anyway', 'inc', 'per', 'such', 'others', 'whereupon', 'during', 'anywhere', 'after', 'among', 'nine', 'throughout', 'hereby', 'few', 'these', 'four', 'keep', 'which', 'indeed', 'why', 'therefore', 'it', 'see', 'perhaps', 'from', 'most', 'were', 'hers', 'also', 'under', 'put', 'should', 'our', 'further', 'whatever', 'due', 'her', 'on', 'mostly', 'the', 'describe', 'herself', 'because', 'do', 'while', 'what', 'we'}\n"
     ]
    }
   ],
   "source": [
    "from sklearn.feature_extraction.text import ENGLISH_STOP_WORDS\n",
    "sklearn_stopwords = set(ENGLISH_STOP_WORDS)\n",
    "print(sklearn_stopwords)"
   ]
  },
  {
   "cell_type": "code",
   "execution_count": 23,
   "id": "cf4e095c",
   "metadata": {},
   "outputs": [
    {
     "data": {
      "text/plain": [
       "318"
      ]
     },
     "execution_count": 23,
     "metadata": {},
     "output_type": "execute_result"
    }
   ],
   "source": [
    "len(sklearn_stopwords)"
   ]
  },
  {
   "cell_type": "code",
   "execution_count": 24,
   "id": "c0b37185",
   "metadata": {},
   "outputs": [
    {
     "name": "stdout",
     "output_type": "stream",
     "text": [
      "{'than', 'above', 'can', 'are', 'for', 'too', 'some', 'before', 'you', 'its', 'myself', 'between', 'am', 'about', 'in', 'have', 'out', 'against', 'been', 'once', 'had', 'any', 'ours', 'an', 'down', 'until', 'i', 'that', 'when', 'his', 'now', 'only', 'who', 'so', 'other', 'him', 'their', 'was', 'them', 'with', 'my', 'be', 'yours', 'or', 'and', 'here', 'to', 'all', 'being', 'as', 'itself', 'no', 'same', 'but', 'both', 'he', 'more', 'your', 'will', 'over', 'into', 'up', 'me', 'there', 'off', 'she', 'whom', 'by', 'at', 'himself', 'if', 'very', 'of', 'each', 'not', 'those', 'own', 'yourself', 'they', 'such', 'is', 'during', 're', 'after', 'few', 'themselves', 'these', 'again', 'then', 'below', 'which', 'through', 'a', 'why', 'how', 'has', 'it', 'from', 'most', 'were', 'this', 'hers', 'under', 'should', 'our', 'nor', 'further', 'her', 'on', 'the', 'herself', 'ourselves', 'yourselves', 'do', 'because', 'while', 'what', 'we', 'where'}\n"
     ]
    }
   ],
   "source": [
    "# Find the common stopwords from NLTK & sklearn\n",
    "print(nltk_stopwords.intersection(sklearn_stopwords))"
   ]
  },
  {
   "cell_type": "code",
   "execution_count": 25,
   "id": "f46b31b6",
   "metadata": {},
   "outputs": [
    {
     "data": {
      "text/plain": [
       "119"
      ]
     },
     "execution_count": 25,
     "metadata": {},
     "output_type": "execute_result"
    }
   ],
   "source": [
    "len(nltk_stopwords.intersection(sklearn_stopwords))"
   ]
  },
  {
   "cell_type": "code",
   "execution_count": 26,
   "id": "4d244574",
   "metadata": {},
   "outputs": [],
   "source": [
    "# Combining the stopwords from sklearn & NLTK\n",
    "combined_stopwords = nltk_stopwords.union(sklearn_stopwords)"
   ]
  },
  {
   "cell_type": "code",
   "execution_count": 27,
   "id": "7c5cab13",
   "metadata": {},
   "outputs": [
    {
     "data": {
      "text/plain": [
       "378"
      ]
     },
     "execution_count": 27,
     "metadata": {},
     "output_type": "execute_result"
    }
   ],
   "source": [
    "len(combined_stopwords)"
   ]
  },
  {
   "cell_type": "code",
   "execution_count": 28,
   "id": "1434274a",
   "metadata": {},
   "outputs": [],
   "source": [
    "# Text Normalization: Stemming or Lemmatization (prefer)\n",
    "from nltk.stem import WordNetLemmatizer\n",
    "lemmatizer = WordNetLemmatizer()"
   ]
  },
  {
   "cell_type": "code",
   "execution_count": 29,
   "id": "adf51cf7",
   "metadata": {},
   "outputs": [
    {
     "data": {
      "text/plain": [
       "['Gain',\n",
       " 'Followers',\n",
       " 'RT',\n",
       " 'This',\n",
       " 'MUST',\n",
       " 'FOLLOW',\n",
       " 'ME',\n",
       " 'I',\n",
       " 'FOLLOW',\n",
       " 'BACK',\n",
       " 'Follow',\n",
       " 'everyone',\n",
       " 'who',\n",
       " 'rts',\n",
       " 'Gain',\n",
       " '#iphone',\n",
       " '#sougofollow',\n",
       " '#ff',\n",
       " 'i7si']"
      ]
     },
     "execution_count": 29,
     "metadata": {},
     "output_type": "execute_result"
    }
   ],
   "source": [
    "data['tweet'][63].split()"
   ]
  },
  {
   "cell_type": "code",
   "execution_count": 30,
   "id": "44aa4683",
   "metadata": {},
   "outputs": [
    {
     "data": {
      "text/plain": [
       "'gain follower rt this must follow me i follow back follow everyone who rts gain #iphone #sougofollow #ff i7si '"
      ]
     },
     "execution_count": 30,
     "metadata": {},
     "output_type": "execute_result"
    }
   ],
   "source": [
    "new_sent = ''\n",
    "for token in data['tweet'][63].split():\n",
    "    new_sent = new_sent + lemmatizer.lemmatize(token.lower()) + ' '\n",
    "\n",
    "new_sent    "
   ]
  },
  {
   "cell_type": "code",
   "execution_count": null,
   "id": "cd8d70fc",
   "metadata": {},
   "outputs": [],
   "source": []
  },
  {
   "cell_type": "code",
   "execution_count": null,
   "id": "1d7ce8c1",
   "metadata": {},
   "outputs": [],
   "source": []
  },
  {
   "cell_type": "code",
   "execution_count": 31,
   "id": "6ea94262",
   "metadata": {
    "scrolled": true
   },
   "outputs": [
    {
     "name": "stdout",
     "output_type": "stream",
     "text": [
      "Defaulting to user installation because normal site-packages is not writeable\n",
      "Requirement already satisfied: contractions in c:\\users\\sandeep\\appdata\\roaming\\python\\python311\\site-packages (0.1.73)\n",
      "Requirement already satisfied: textsearch>=0.0.21 in c:\\users\\sandeep\\appdata\\roaming\\python\\python311\\site-packages (from contractions) (0.0.24)\n",
      "Requirement already satisfied: anyascii in c:\\users\\sandeep\\appdata\\roaming\\python\\python311\\site-packages (from textsearch>=0.0.21->contractions) (0.3.2)\n",
      "Requirement already satisfied: pyahocorasick in c:\\users\\sandeep\\appdata\\roaming\\python\\python311\\site-packages (from textsearch>=0.0.21->contractions) (2.1.0)\n"
     ]
    },
    {
     "name": "stderr",
     "output_type": "stream",
     "text": [
      "DEPRECATION: Loading egg at c:\\program files\\python311\\lib\\site-packages\\vboxapi-1.0-py3.11.egg is deprecated. pip 24.3 will enforce this behaviour change. A possible replacement is to use pip for package installation.. Discussion can be found at https://github.com/pypa/pip/issues/12330\n",
      "\n",
      "[notice] A new release of pip is available: 23.3.2 -> 24.2\n",
      "[notice] To update, run: python.exe -m pip install --upgrade pip\n"
     ]
    },
    {
     "data": {
      "text/plain": [
       "\"It's time for new wallpapers #phone #wallpapers #wall #screen #galaxy #samsung #app … https://www.instagram.com/p/BcsKTNNn51c/\""
      ]
     },
     "execution_count": 31,
     "metadata": {},
     "output_type": "execute_result"
    }
   ],
   "source": [
    "!pip install contractions\n",
    "import contractions\n",
    "data['tweet'][24]"
   ]
  },
  {
   "cell_type": "code",
   "execution_count": 32,
   "id": "c8a417a5",
   "metadata": {},
   "outputs": [
    {
     "data": {
      "text/plain": [
       "'It is time for new wallpapers #phone #wallpapers #wall #screen #galaxy #samsung #app … https://www.instagram.com/p/BcsKTNNn51c/'"
      ]
     },
     "execution_count": 32,
     "metadata": {},
     "output_type": "execute_result"
    }
   ],
   "source": [
    "#expanding the short forms like 's to is\n",
    "contractions.fix(data['tweet'][24])"
   ]
  },
  {
   "cell_type": "markdown",
   "id": "a00fd547",
   "metadata": {},
   "source": [
    "## Define the Cleaner Function & Apply"
   ]
  },
  {
   "cell_type": "code",
   "execution_count": 33,
   "id": "6bcdc3be",
   "metadata": {},
   "outputs": [],
   "source": [
    "import re"
   ]
  },
  {
   "cell_type": "code",
   "execution_count": 34,
   "id": "8be4ed4b",
   "metadata": {},
   "outputs": [],
   "source": [
    "def tweet_cleaner_without_stopwords(text):\n",
    "    new_text = re.sub(r\"'s\\b\", \" is\", text)\n",
    "    new_text = re.sub(\"#\", \"\", new_text)\n",
    "    new_text = re.sub(\"@[A-Za-z0-9]+\", \"\", new_text)\n",
    "    new_text = re.sub(r\"http\\S+\", \"\", new_text)\n",
    "    new_text = contractions.fix(new_text)    \n",
    "    new_text = re.sub(r\"[^a-zA-Z]\", \" \", new_text)    \n",
    "    new_text = new_text.lower().strip()\n",
    "    \n",
    "    cleaned_text = ''\n",
    "    for token in new_text.split():\n",
    "        cleaned_text = cleaned_text + lemmatizer.lemmatize(token) + ' '\n",
    "    \n",
    "    return cleaned_text"
   ]
  },
  {
   "cell_type": "code",
   "execution_count": 35,
   "id": "5f490cc9",
   "metadata": {},
   "outputs": [],
   "source": [
    "cleaned_tweets = []  # list of cleaned tweets\n",
    "for twt in data['tweet']:\n",
    "    cleaned_tweets.append(tweet_cleaner_without_stopwords(twt))"
   ]
  },
  {
   "cell_type": "code",
   "execution_count": 36,
   "id": "d0ade359",
   "metadata": {},
   "outputs": [
    {
     "data": {
      "text/plain": [
       "['fingerprint pregnancy test android apps beautiful cute health igers iphoneonly iphonesia iphone ',\n",
       " 'finally a transparant silicon case thanks to my uncle yay sony xperia s sonyexperias ',\n",
       " 'we love this would you go talk makememories unplug relax iphone smartphone wifi connect ',\n",
       " 'i am wired i know i am george i wa made that way iphone cute daventry home ',\n",
       " 'what amazing service apple will not even talk to me about a question i have unless i pay them for their stupid support ']"
      ]
     },
     "execution_count": 36,
     "metadata": {},
     "output_type": "execute_result"
    }
   ],
   "source": [
    "cleaned_tweets[:5]    "
   ]
  },
  {
   "cell_type": "code",
   "execution_count": 37,
   "id": "c9a4d13f",
   "metadata": {},
   "outputs": [
    {
     "data": {
      "text/plain": [
       "'it is time for new wallpaper phone wallpaper wall screen galaxy samsung app '"
      ]
     },
     "execution_count": 37,
     "metadata": {},
     "output_type": "execute_result"
    }
   ],
   "source": [
    "cleaned_tweets[24]"
   ]
  },
  {
   "cell_type": "code",
   "execution_count": 38,
   "id": "be51e00a",
   "metadata": {},
   "outputs": [
    {
     "data": {
      "text/plain": [
       "'#Apple Bunch if Crooks Refused to repair/replace my beats wireless. Problem rubber on mic coming off microphones stopped working. Said warranty was void because ear piece looked chewed. Bullshit. I don’t have any animals and I would chew on anything I put in my ear. pic.twitter.com/GfgvquEpuC'"
      ]
     },
     "execution_count": 38,
     "metadata": {},
     "output_type": "execute_result"
    }
   ],
   "source": [
    "data['tweet'][1500]"
   ]
  },
  {
   "cell_type": "code",
   "execution_count": 39,
   "id": "6bc838c8",
   "metadata": {},
   "outputs": [
    {
     "data": {
      "text/plain": [
       "['#Apple',\n",
       " 'Bunch',\n",
       " 'if',\n",
       " 'Crooks',\n",
       " 'Refused',\n",
       " 'to',\n",
       " 'repair/replace',\n",
       " 'my',\n",
       " 'beats',\n",
       " 'wireless.',\n",
       " 'Problem',\n",
       " 'rubber',\n",
       " 'on',\n",
       " 'mic',\n",
       " 'coming',\n",
       " 'off',\n",
       " 'microphones',\n",
       " 'stopped',\n",
       " 'working.',\n",
       " 'Said',\n",
       " 'warranty',\n",
       " 'was',\n",
       " 'void',\n",
       " 'because',\n",
       " 'ear',\n",
       " 'piece',\n",
       " 'looked',\n",
       " 'chewed.',\n",
       " 'Bullshit.',\n",
       " 'I',\n",
       " 'don’t',\n",
       " 'have',\n",
       " 'any',\n",
       " 'animals',\n",
       " 'and',\n",
       " 'I',\n",
       " 'would',\n",
       " 'chew',\n",
       " 'on',\n",
       " 'anything',\n",
       " 'I',\n",
       " 'put',\n",
       " 'in',\n",
       " 'my',\n",
       " 'ear.',\n",
       " 'pic.twitter.com/GfgvquEpuC']"
      ]
     },
     "execution_count": 39,
     "metadata": {},
     "output_type": "execute_result"
    }
   ],
   "source": [
    "data['tweet'][1500].split()"
   ]
  },
  {
   "cell_type": "code",
   "execution_count": 40,
   "id": "6b35606a",
   "metadata": {},
   "outputs": [
    {
     "data": {
      "text/plain": [
       "'apple bunch if crook refused to repair replace my beat wireless problem rubber on mic coming off microphone stopped working said warranty wa void because ear piece looked chewed bullshit i do not have any animal and i would chew on anything i put in my ear pic twitter com gfgvquepuc '"
      ]
     },
     "execution_count": 40,
     "metadata": {},
     "output_type": "execute_result"
    }
   ],
   "source": [
    "cleaned_tweets[1500]"
   ]
  },
  {
   "cell_type": "code",
   "execution_count": null,
   "id": "035c3fde",
   "metadata": {},
   "outputs": [],
   "source": []
  },
  {
   "cell_type": "code",
   "execution_count": 41,
   "id": "578f9e75",
   "metadata": {},
   "outputs": [
    {
     "data": {
      "text/html": [
       "<div>\n",
       "<style scoped>\n",
       "    .dataframe tbody tr th:only-of-type {\n",
       "        vertical-align: middle;\n",
       "    }\n",
       "\n",
       "    .dataframe tbody tr th {\n",
       "        vertical-align: top;\n",
       "    }\n",
       "\n",
       "    .dataframe thead th {\n",
       "        text-align: right;\n",
       "    }\n",
       "</style>\n",
       "<table border=\"1\" class=\"dataframe\">\n",
       "  <thead>\n",
       "    <tr style=\"text-align: right;\">\n",
       "      <th></th>\n",
       "      <th>id</th>\n",
       "      <th>label</th>\n",
       "      <th>tweet</th>\n",
       "      <th>cleaned_tweets_w/o_SW</th>\n",
       "    </tr>\n",
       "  </thead>\n",
       "  <tbody>\n",
       "    <tr>\n",
       "      <th>0</th>\n",
       "      <td>1</td>\n",
       "      <td>0</td>\n",
       "      <td>#fingerprint #Pregnancy Test https://goo.gl/h1MfQV #android #apps #beautiful #cute #health #igers #iphoneonly #iphonesia #iphone</td>\n",
       "      <td>fingerprint pregnancy test android apps beautiful cute health igers iphoneonly iphonesia iphone</td>\n",
       "    </tr>\n",
       "    <tr>\n",
       "      <th>1</th>\n",
       "      <td>2</td>\n",
       "      <td>0</td>\n",
       "      <td>Finally a transparant silicon case ^^ Thanks to my uncle :) #yay #Sony #Xperia #S #sonyexperias… http://instagram.com/p/YGEt5JC6JM/</td>\n",
       "      <td>finally a transparant silicon case thanks to my uncle yay sony xperia s sonyexperias</td>\n",
       "    </tr>\n",
       "    <tr>\n",
       "      <th>2</th>\n",
       "      <td>3</td>\n",
       "      <td>0</td>\n",
       "      <td>We love this! Would you go? #talk #makememories #unplug #relax #iphone #smartphone #wifi #connect... http://fb.me/6N3LsUpCu</td>\n",
       "      <td>we love this would you go talk makememories unplug relax iphone smartphone wifi connect</td>\n",
       "    </tr>\n",
       "    <tr>\n",
       "      <th>3</th>\n",
       "      <td>4</td>\n",
       "      <td>0</td>\n",
       "      <td>I'm wired I know I'm George I was made that way ;) #iphone #cute #daventry #home http://instagr.am/p/Li_5_ujS4k/</td>\n",
       "      <td>i am wired i know i am george i wa made that way iphone cute daventry home</td>\n",
       "    </tr>\n",
       "    <tr>\n",
       "      <th>4</th>\n",
       "      <td>5</td>\n",
       "      <td>1</td>\n",
       "      <td>What amazing service! Apple won't even talk to me about a question I have unless I pay them $19.95 for their stupid support!</td>\n",
       "      <td>what amazing service apple will not even talk to me about a question i have unless i pay them for their stupid support</td>\n",
       "    </tr>\n",
       "  </tbody>\n",
       "</table>\n",
       "</div>"
      ],
      "text/plain": [
       "   id  label  \\\n",
       "0   1      0   \n",
       "1   2      0   \n",
       "2   3      0   \n",
       "3   4      0   \n",
       "4   5      1   \n",
       "\n",
       "                                                                                                                                 tweet  \\\n",
       "0     #fingerprint #Pregnancy Test https://goo.gl/h1MfQV #android #apps #beautiful #cute #health #igers #iphoneonly #iphonesia #iphone   \n",
       "1  Finally a transparant silicon case ^^ Thanks to my uncle :) #yay #Sony #Xperia #S #sonyexperias… http://instagram.com/p/YGEt5JC6JM/   \n",
       "2          We love this! Would you go? #talk #makememories #unplug #relax #iphone #smartphone #wifi #connect... http://fb.me/6N3LsUpCu   \n",
       "3                     I'm wired I know I'm George I was made that way ;) #iphone #cute #daventry #home http://instagr.am/p/Li_5_ujS4k/   \n",
       "4         What amazing service! Apple won't even talk to me about a question I have unless I pay them $19.95 for their stupid support!   \n",
       "\n",
       "                                                                                                     cleaned_tweets_w/o_SW  \n",
       "0                         fingerprint pregnancy test android apps beautiful cute health igers iphoneonly iphonesia iphone   \n",
       "1                                    finally a transparant silicon case thanks to my uncle yay sony xperia s sonyexperias   \n",
       "2                                 we love this would you go talk makememories unplug relax iphone smartphone wifi connect   \n",
       "3                                              i am wired i know i am george i wa made that way iphone cute daventry home   \n",
       "4  what amazing service apple will not even talk to me about a question i have unless i pay them for their stupid support   "
      ]
     },
     "execution_count": 41,
     "metadata": {},
     "output_type": "execute_result"
    }
   ],
   "source": [
    "data['cleaned_tweets_w/o_SW'] = cleaned_tweets\n",
    "data.head()"
   ]
  },
  {
   "cell_type": "markdown",
   "id": "3453f45e",
   "metadata": {},
   "source": [
    "# 3. Data Visualization\n",
    "\n",
    "Plot the top 25 most common words in this tweets dataset"
   ]
  },
  {
   "cell_type": "code",
   "execution_count": 42,
   "id": "ad7f388f",
   "metadata": {},
   "outputs": [
    {
     "name": "stdout",
     "output_type": "stream",
     "text": [
      "['#fingerprint', '#Pregnancy', 'Test', 'https://goo.gl/h1MfQV', '#android', '#apps', '#beautiful', '#cute', '#health', '#igers', '#iphoneonly', '#iphonesia', '#iphone', 'Finally', 'a', 'transparant', 'silicon', 'case', '^^', 'Thanks', 'to', 'my', 'uncle', ':)', '#yay', '#Sony', '#Xperia', '#S', '#sonyexperias…', 'http://instagram.com/p/YGEt5JC6JM/', 'We', 'love', 'this!', 'Would', 'you', 'go?', '#talk', '#makememories', '#unplug', '#relax', '#iphone', '#smartphone', '#wifi', '#connect...', 'http://fb.me/6N3LsUpCu', \"I'm\", 'wired', 'I', 'know', \"I'm\"]\n"
     ]
    },
    {
     "data": {
      "text/plain": [
       "34348"
      ]
     },
     "execution_count": 42,
     "metadata": {},
     "output_type": "execute_result"
    }
   ],
   "source": [
    "# Write a code to collect all the words from all the tweets into a single list\n",
    "all_words = []\n",
    "for t in data['tweet']:\n",
    "    all_words.extend(t.split())\n",
    "\n",
    "print(all_words[:50])\n",
    "len(set(all_words)) # this is the number of unique words in the list"
   ]
  },
  {
   "cell_type": "code",
   "execution_count": 43,
   "id": "cb70565b",
   "metadata": {},
   "outputs": [],
   "source": [
    "import matplotlib.pyplot as plt"
   ]
  },
  {
   "cell_type": "code",
   "execution_count": 44,
   "id": "2f5bd612",
   "metadata": {},
   "outputs": [
    {
     "data": {
      "image/png": "[encoded data removed]",
      "text/plain": [
       "<Figure size 1200x500 with 1 Axes>"
      ]
     },
     "metadata": {},
     "output_type": "display_data"
    }
   ],
   "source": [
    "# Frequency Distribution\n",
    "freq_dist = nltk.FreqDist(all_words)\n",
    "\n",
    "plt.figure(figsize=(12,5))\n",
    "plt.title('Top 25 most common words')\n",
    "plt.xticks(fontsize=15)\n",
    "\n",
    "freq_dist.plot(25, cumulative=False)\n",
    "\n",
    "plt.show()\n"
   ]
  },
  {
   "cell_type": "code",
   "execution_count": null,
   "id": "3eca8b64",
   "metadata": {},
   "outputs": [],
   "source": []
  },
  {
   "cell_type": "markdown",
   "id": "81bfdcfd",
   "metadata": {},
   "source": [
    "## Plot for Cleaned Tweets"
   ]
  },
  {
   "cell_type": "code",
   "execution_count": 45,
   "id": "b8c83f18",
   "metadata": {},
   "outputs": [
    {
     "name": "stdout",
     "output_type": "stream",
     "text": [
      "['fingerprint', 'pregnancy', 'test', 'android', 'apps', 'beautiful', 'cute', 'health', 'igers', 'iphoneonly', 'iphonesia', 'iphone', 'finally', 'a', 'transparant', 'silicon', 'case', 'thanks', 'to', 'my', 'uncle', 'yay', 'sony', 'xperia', 's', 'sonyexperias', 'we', 'love', 'this', 'would', 'you', 'go', 'talk', 'makememories', 'unplug', 'relax', 'iphone', 'smartphone', 'wifi', 'connect', 'i', 'am', 'wired', 'i', 'know', 'i', 'am', 'george', 'i', 'wa']\n"
     ]
    }
   ],
   "source": [
    "# Write the code for plotting the cleaned tweets\n",
    "all_words = []\n",
    "for t in data['cleaned_tweets_w/o_SW']:\n",
    "    all_words.extend(t.split())\n",
    "\n",
    "print(all_words[:50])"
   ]
  },
  {
   "cell_type": "code",
   "execution_count": 46,
   "id": "c3317753",
   "metadata": {},
   "outputs": [
    {
     "data": {
      "text/plain": [
       "15981"
      ]
     },
     "execution_count": 46,
     "metadata": {},
     "output_type": "execute_result"
    }
   ],
   "source": [
    "len(set(all_words)) # this is the number of unique words in the list"
   ]
  },
  {
   "cell_type": "code",
   "execution_count": 47,
   "id": "e170ffd8",
   "metadata": {},
   "outputs": [
    {
     "data": {
      "image/png": "[encoded data removed]",
      "text/plain": [
       "<Figure size 1200x500 with 1 Axes>"
      ]
     },
     "metadata": {},
     "output_type": "display_data"
    }
   ],
   "source": [
    "# Frequency Distribution\n",
    "freq_dist = nltk.FreqDist(all_words)\n",
    "\n",
    "plt.figure(figsize=(12,5))\n",
    "plt.title('Top 25 most common words')\n",
    "plt.xticks(fontsize=15)\n",
    "\n",
    "freq_dist.plot(25, cumulative=False)\n",
    "\n",
    "plt.show()\n"
   ]
  },
  {
   "cell_type": "code",
   "execution_count": null,
   "id": "fcfa79f5",
   "metadata": {},
   "outputs": [],
   "source": []
  },
  {
   "cell_type": "code",
   "execution_count": null,
   "id": "fc68a02c",
   "metadata": {},
   "outputs": [],
   "source": []
  },
  {
   "cell_type": "markdown",
   "id": "f961f7f9",
   "metadata": {},
   "source": [
    "## DV After applying Stop words"
   ]
  },
  {
   "cell_type": "code",
   "execution_count": 48,
   "id": "271f2007",
   "metadata": {},
   "outputs": [
    {
     "data": {
      "text/plain": [
       "set"
      ]
     },
     "execution_count": 48,
     "metadata": {},
     "output_type": "execute_result"
    }
   ],
   "source": [
    "type(combined_stopwords)"
   ]
  },
  {
   "cell_type": "code",
   "execution_count": 49,
   "id": "ddf4f2e4",
   "metadata": {},
   "outputs": [],
   "source": [
    "def tweet_cleaner_with_stopwords(text):\n",
    "    new_text = re.sub(r\"'s\\b\", \" is\", text)\n",
    "    new_text = re.sub(\"#\", \"\", new_text)\n",
    "    new_text = re.sub(\"@[A-Za-z0-9]+\", \"\", new_text)\n",
    "    new_text = re.sub(r\"http\\S+\", \"\", new_text)\n",
    "    new_text = contractions.fix(new_text)    \n",
    "    new_text = re.sub(r\"[^a-zA-Z]\", \" \", new_text)    \n",
    "    new_text = new_text.lower().strip()\n",
    "    \n",
    "    new_text = [token for token in new_text.split() if token not in combined_stopwords]\n",
    "    \n",
    "    new_text = [token for token in new_text if len(token)>2]\n",
    "    \n",
    "    cleaned_text = ''\n",
    "    for token in new_text:\n",
    "        cleaned_text = cleaned_text + lemmatizer.lemmatize(token) + ' '\n",
    "    \n",
    "    return cleaned_text"
   ]
  },
  {
   "cell_type": "code",
   "execution_count": 50,
   "id": "447a63d8",
   "metadata": {},
   "outputs": [
    {
     "name": "stdout",
     "output_type": "stream",
     "text": [
      "['fingerprint pregnancy test android apps beautiful cute health igers iphoneonly iphonesia iphone ', 'finally transparant silicon case thanks uncle yay sony xperia sonyexperias ', 'love talk makememories unplug relax iphone smartphone wifi connect ', 'wired know george way iphone cute daventry home ', 'amazing service apple talk question unless pay stupid support ', 'iphone software update fucked phone big time stupid iphones ', 'happy instapic instadaily sony xperia xperiaz ', 'new type charger cable bay amazon etsy new year rob cross toby young evemun mcmafia taylor spectre newyear starting recipe technology samsunggalaxys iphonex pic twitter com pjiwq wtc ', 'bout shopping listening music iphone justme music likeforlike followforfollow ', 'photo fun selfie pool water sony camera picoftheday sun instagood boy cute outdoor ']\n"
     ]
    }
   ],
   "source": [
    "cleaned_tweets = list(data['tweet'].apply(tweet_cleaner_with_stopwords))\n",
    "print(cleaned_tweets[:10])"
   ]
  },
  {
   "cell_type": "code",
   "execution_count": 51,
   "id": "08f114df",
   "metadata": {},
   "outputs": [
    {
     "data": {
      "text/plain": [
       "Index(['id', 'label', 'tweet', 'cleaned_tweets_w/o_SW'], dtype='object')"
      ]
     },
     "execution_count": 51,
     "metadata": {},
     "output_type": "execute_result"
    }
   ],
   "source": [
    "data.columns"
   ]
  },
  {
   "cell_type": "code",
   "execution_count": 52,
   "id": "15ba023d",
   "metadata": {},
   "outputs": [
    {
     "data": {
      "text/html": [
       "<div>\n",
       "<style scoped>\n",
       "    .dataframe tbody tr th:only-of-type {\n",
       "        vertical-align: middle;\n",
       "    }\n",
       "\n",
       "    .dataframe tbody tr th {\n",
       "        vertical-align: top;\n",
       "    }\n",
       "\n",
       "    .dataframe thead th {\n",
       "        text-align: right;\n",
       "    }\n",
       "</style>\n",
       "<table border=\"1\" class=\"dataframe\">\n",
       "  <thead>\n",
       "    <tr style=\"text-align: right;\">\n",
       "      <th></th>\n",
       "      <th>id</th>\n",
       "      <th>label</th>\n",
       "      <th>tweet</th>\n",
       "      <th>cleaned_tweets_w/o_SW</th>\n",
       "      <th>cleaned_tweets_with_SW</th>\n",
       "    </tr>\n",
       "  </thead>\n",
       "  <tbody>\n",
       "    <tr>\n",
       "      <th>0</th>\n",
       "      <td>1</td>\n",
       "      <td>0</td>\n",
       "      <td>#fingerprint #Pregnancy Test https://goo.gl/h1MfQV #android #apps #beautiful #cute #health #igers #iphoneonly #iphonesia #iphone</td>\n",
       "      <td>fingerprint pregnancy test android apps beautiful cute health igers iphoneonly iphonesia iphone</td>\n",
       "      <td>fingerprint pregnancy test android apps beautiful cute health igers iphoneonly iphonesia iphone</td>\n",
       "    </tr>\n",
       "    <tr>\n",
       "      <th>1</th>\n",
       "      <td>2</td>\n",
       "      <td>0</td>\n",
       "      <td>Finally a transparant silicon case ^^ Thanks to my uncle :) #yay #Sony #Xperia #S #sonyexperias… http://instagram.com/p/YGEt5JC6JM/</td>\n",
       "      <td>finally a transparant silicon case thanks to my uncle yay sony xperia s sonyexperias</td>\n",
       "      <td>finally transparant silicon case thanks uncle yay sony xperia sonyexperias</td>\n",
       "    </tr>\n",
       "    <tr>\n",
       "      <th>2</th>\n",
       "      <td>3</td>\n",
       "      <td>0</td>\n",
       "      <td>We love this! Would you go? #talk #makememories #unplug #relax #iphone #smartphone #wifi #connect... http://fb.me/6N3LsUpCu</td>\n",
       "      <td>we love this would you go talk makememories unplug relax iphone smartphone wifi connect</td>\n",
       "      <td>love talk makememories unplug relax iphone smartphone wifi connect</td>\n",
       "    </tr>\n",
       "    <tr>\n",
       "      <th>3</th>\n",
       "      <td>4</td>\n",
       "      <td>0</td>\n",
       "      <td>I'm wired I know I'm George I was made that way ;) #iphone #cute #daventry #home http://instagr.am/p/Li_5_ujS4k/</td>\n",
       "      <td>i am wired i know i am george i wa made that way iphone cute daventry home</td>\n",
       "      <td>wired know george way iphone cute daventry home</td>\n",
       "    </tr>\n",
       "    <tr>\n",
       "      <th>4</th>\n",
       "      <td>5</td>\n",
       "      <td>1</td>\n",
       "      <td>What amazing service! Apple won't even talk to me about a question I have unless I pay them $19.95 for their stupid support!</td>\n",
       "      <td>what amazing service apple will not even talk to me about a question i have unless i pay them for their stupid support</td>\n",
       "      <td>amazing service apple talk question unless pay stupid support</td>\n",
       "    </tr>\n",
       "  </tbody>\n",
       "</table>\n",
       "</div>"
      ],
      "text/plain": [
       "   id  label  \\\n",
       "0   1      0   \n",
       "1   2      0   \n",
       "2   3      0   \n",
       "3   4      0   \n",
       "4   5      1   \n",
       "\n",
       "                                                                                                                                 tweet  \\\n",
       "0     #fingerprint #Pregnancy Test https://goo.gl/h1MfQV #android #apps #beautiful #cute #health #igers #iphoneonly #iphonesia #iphone   \n",
       "1  Finally a transparant silicon case ^^ Thanks to my uncle :) #yay #Sony #Xperia #S #sonyexperias… http://instagram.com/p/YGEt5JC6JM/   \n",
       "2          We love this! Would you go? #talk #makememories #unplug #relax #iphone #smartphone #wifi #connect... http://fb.me/6N3LsUpCu   \n",
       "3                     I'm wired I know I'm George I was made that way ;) #iphone #cute #daventry #home http://instagr.am/p/Li_5_ujS4k/   \n",
       "4         What amazing service! Apple won't even talk to me about a question I have unless I pay them $19.95 for their stupid support!   \n",
       "\n",
       "                                                                                                     cleaned_tweets_w/o_SW  \\\n",
       "0                         fingerprint pregnancy test android apps beautiful cute health igers iphoneonly iphonesia iphone    \n",
       "1                                    finally a transparant silicon case thanks to my uncle yay sony xperia s sonyexperias    \n",
       "2                                 we love this would you go talk makememories unplug relax iphone smartphone wifi connect    \n",
       "3                                              i am wired i know i am george i wa made that way iphone cute daventry home    \n",
       "4  what amazing service apple will not even talk to me about a question i have unless i pay them for their stupid support    \n",
       "\n",
       "                                                                             cleaned_tweets_with_SW  \n",
       "0  fingerprint pregnancy test android apps beautiful cute health igers iphoneonly iphonesia iphone   \n",
       "1                       finally transparant silicon case thanks uncle yay sony xperia sonyexperias   \n",
       "2                               love talk makememories unplug relax iphone smartphone wifi connect   \n",
       "3                                                  wired know george way iphone cute daventry home   \n",
       "4                                    amazing service apple talk question unless pay stupid support   "
      ]
     },
     "execution_count": 52,
     "metadata": {},
     "output_type": "execute_result"
    }
   ],
   "source": [
    "data['cleaned_tweets_with_SW'] = cleaned_tweets\n",
    "data.head()"
   ]
  },
  {
   "cell_type": "code",
   "execution_count": 53,
   "id": "4a9cd5ff",
   "metadata": {},
   "outputs": [
    {
     "name": "stdout",
     "output_type": "stream",
     "text": [
      "['fingerprint', 'pregnancy', 'test', 'android', 'apps', 'beautiful', 'cute', 'health', 'igers', 'iphoneonly', 'iphonesia', 'iphone', 'finally', 'transparant', 'silicon', 'case', 'thanks', 'uncle', 'yay', 'sony', 'xperia', 'sonyexperias', 'love', 'talk', 'makememories', 'unplug', 'relax', 'iphone', 'smartphone', 'wifi', 'connect', 'wired', 'know', 'george', 'way', 'iphone', 'cute', 'daventry', 'home', 'amazing', 'service', 'apple', 'talk', 'question', 'unless', 'pay', 'stupid', 'support', 'iphone', 'software']\n"
     ]
    },
    {
     "data": {
      "image/png": "[encoded data removed]",
      "text/plain": [
       "<Figure size 1200x500 with 1 Axes>"
      ]
     },
     "metadata": {},
     "output_type": "display_data"
    }
   ],
   "source": [
    "all_words = []\n",
    "for t in data['cleaned_tweets_with_SW']:\n",
    "    all_words.extend(t.split())\n",
    "\n",
    "print(all_words[:50])\n",
    "\n",
    "# Frequency Distribution\n",
    "freq_dist = nltk.FreqDist(all_words)\n",
    "\n",
    "plt.figure(figsize=(12,5))\n",
    "plt.title('Top 25 most common words')\n",
    "plt.xticks(fontsize=15)\n",
    "\n",
    "freq_dist.plot(25, cumulative=False)\n",
    "\n",
    "plt.show()"
   ]
  },
  {
   "cell_type": "code",
   "execution_count": 54,
   "id": "3c403194",
   "metadata": {},
   "outputs": [],
   "source": [
    "domain_stopwords = ['phone', 'mobile', 'twitter', 'rt', 'com', 'follow']\n",
    "final_stopwords = domain_stopwords + list(combined_stopwords)"
   ]
  },
  {
   "cell_type": "code",
   "execution_count": null,
   "id": "37b2ed4b",
   "metadata": {},
   "outputs": [],
   "source": []
  },
  {
   "cell_type": "code",
   "execution_count": 55,
   "id": "5cdc409a",
   "metadata": {},
   "outputs": [
    {
     "data": {
      "text/html": [
       "<div>\n",
       "<style scoped>\n",
       "    .dataframe tbody tr th:only-of-type {\n",
       "        vertical-align: middle;\n",
       "    }\n",
       "\n",
       "    .dataframe tbody tr th {\n",
       "        vertical-align: top;\n",
       "    }\n",
       "\n",
       "    .dataframe thead th {\n",
       "        text-align: right;\n",
       "    }\n",
       "</style>\n",
       "<table border=\"1\" class=\"dataframe\">\n",
       "  <thead>\n",
       "    <tr style=\"text-align: right;\">\n",
       "      <th></th>\n",
       "      <th>id</th>\n",
       "      <th>label</th>\n",
       "      <th>tweet</th>\n",
       "      <th>cleaned_tweets_w/o_SW</th>\n",
       "      <th>cleaned_tweets_with_SW</th>\n",
       "    </tr>\n",
       "  </thead>\n",
       "  <tbody>\n",
       "    <tr>\n",
       "      <th>0</th>\n",
       "      <td>1</td>\n",
       "      <td>0</td>\n",
       "      <td>#fingerprint #Pregnancy Test https://goo.gl/h1MfQV #android #apps #beautiful #cute #health #igers #iphoneonly #iphonesia #iphone</td>\n",
       "      <td>fingerprint pregnancy test android apps beautiful cute health igers iphoneonly iphonesia iphone</td>\n",
       "      <td>fingerprint pregnancy test android apps beautiful cute health igers iphoneonly iphonesia iphone</td>\n",
       "    </tr>\n",
       "    <tr>\n",
       "      <th>1</th>\n",
       "      <td>2</td>\n",
       "      <td>0</td>\n",
       "      <td>Finally a transparant silicon case ^^ Thanks to my uncle :) #yay #Sony #Xperia #S #sonyexperias… http://instagram.com/p/YGEt5JC6JM/</td>\n",
       "      <td>finally a transparant silicon case thanks to my uncle yay sony xperia s sonyexperias</td>\n",
       "      <td>finally transparant silicon case thanks uncle yay sony xperia sonyexperias</td>\n",
       "    </tr>\n",
       "    <tr>\n",
       "      <th>2</th>\n",
       "      <td>3</td>\n",
       "      <td>0</td>\n",
       "      <td>We love this! Would you go? #talk #makememories #unplug #relax #iphone #smartphone #wifi #connect... http://fb.me/6N3LsUpCu</td>\n",
       "      <td>we love this would you go talk makememories unplug relax iphone smartphone wifi connect</td>\n",
       "      <td>love talk makememories unplug relax iphone smartphone wifi connect</td>\n",
       "    </tr>\n",
       "    <tr>\n",
       "      <th>3</th>\n",
       "      <td>4</td>\n",
       "      <td>0</td>\n",
       "      <td>I'm wired I know I'm George I was made that way ;) #iphone #cute #daventry #home http://instagr.am/p/Li_5_ujS4k/</td>\n",
       "      <td>i am wired i know i am george i wa made that way iphone cute daventry home</td>\n",
       "      <td>wired know george way iphone cute daventry home</td>\n",
       "    </tr>\n",
       "    <tr>\n",
       "      <th>4</th>\n",
       "      <td>5</td>\n",
       "      <td>1</td>\n",
       "      <td>What amazing service! Apple won't even talk to me about a question I have unless I pay them $19.95 for their stupid support!</td>\n",
       "      <td>what amazing service apple will not even talk to me about a question i have unless i pay them for their stupid support</td>\n",
       "      <td>amazing service apple talk question unless pay stupid support</td>\n",
       "    </tr>\n",
       "  </tbody>\n",
       "</table>\n",
       "</div>"
      ],
      "text/plain": [
       "   id  label  \\\n",
       "0   1      0   \n",
       "1   2      0   \n",
       "2   3      0   \n",
       "3   4      0   \n",
       "4   5      1   \n",
       "\n",
       "                                                                                                                                 tweet  \\\n",
       "0     #fingerprint #Pregnancy Test https://goo.gl/h1MfQV #android #apps #beautiful #cute #health #igers #iphoneonly #iphonesia #iphone   \n",
       "1  Finally a transparant silicon case ^^ Thanks to my uncle :) #yay #Sony #Xperia #S #sonyexperias… http://instagram.com/p/YGEt5JC6JM/   \n",
       "2          We love this! Would you go? #talk #makememories #unplug #relax #iphone #smartphone #wifi #connect... http://fb.me/6N3LsUpCu   \n",
       "3                     I'm wired I know I'm George I was made that way ;) #iphone #cute #daventry #home http://instagr.am/p/Li_5_ujS4k/   \n",
       "4         What amazing service! Apple won't even talk to me about a question I have unless I pay them $19.95 for their stupid support!   \n",
       "\n",
       "                                                                                                     cleaned_tweets_w/o_SW  \\\n",
       "0                         fingerprint pregnancy test android apps beautiful cute health igers iphoneonly iphonesia iphone    \n",
       "1                                    finally a transparant silicon case thanks to my uncle yay sony xperia s sonyexperias    \n",
       "2                                 we love this would you go talk makememories unplug relax iphone smartphone wifi connect    \n",
       "3                                              i am wired i know i am george i wa made that way iphone cute daventry home    \n",
       "4  what amazing service apple will not even talk to me about a question i have unless i pay them for their stupid support    \n",
       "\n",
       "                                                                             cleaned_tweets_with_SW  \n",
       "0  fingerprint pregnancy test android apps beautiful cute health igers iphoneonly iphonesia iphone   \n",
       "1                       finally transparant silicon case thanks uncle yay sony xperia sonyexperias   \n",
       "2                               love talk makememories unplug relax iphone smartphone wifi connect   \n",
       "3                                                  wired know george way iphone cute daventry home   \n",
       "4                                    amazing service apple talk question unless pay stupid support   "
      ]
     },
     "execution_count": 55,
     "metadata": {},
     "output_type": "execute_result"
    }
   ],
   "source": [
    "data.head()"
   ]
  },
  {
   "cell_type": "code",
   "execution_count": null,
   "id": "c84a7724",
   "metadata": {},
   "outputs": [],
   "source": []
  },
  {
   "cell_type": "markdown",
   "id": "9e67d67d",
   "metadata": {},
   "source": [
    "# 4. Bag of Words Model (Feature Extraction)\n",
    "\n",
    "- Countvectorizer\n",
    "- TF-IDF Vectorizer"
   ]
  },
  {
   "cell_type": "code",
   "execution_count": 56,
   "id": "648429e5",
   "metadata": {},
   "outputs": [
    {
     "data": {
      "text/plain": [
       "(7920, 5)"
      ]
     },
     "execution_count": 56,
     "metadata": {},
     "output_type": "execute_result"
    }
   ],
   "source": [
    "data.shape"
   ]
  },
  {
   "cell_type": "code",
   "execution_count": 57,
   "id": "5ca6d51a",
   "metadata": {},
   "outputs": [],
   "source": [
    "from sklearn.feature_extraction.text import CountVectorizer\n",
    "\n",
    "CV = CountVectorizer()\n",
    "CV_features = CV.fit_transform(data['cleaned_tweets_w/o_SW'])\n"
   ]
  },
  {
   "cell_type": "code",
   "execution_count": 58,
   "id": "00eed834",
   "metadata": {},
   "outputs": [
    {
     "data": {
      "text/plain": [
       "(7920, 15955)"
      ]
     },
     "execution_count": 58,
     "metadata": {},
     "output_type": "execute_result"
    }
   ],
   "source": [
    "CV_features.shape"
   ]
  },
  {
   "cell_type": "code",
   "execution_count": 59,
   "id": "6dda76be",
   "metadata": {},
   "outputs": [
    {
     "data": {
      "text/plain": [
       "<1x15955 sparse matrix of type '<class 'numpy.int64'>'\n",
       "\twith 12 stored elements in Compressed Sparse Row format>"
      ]
     },
     "execution_count": 59,
     "metadata": {},
     "output_type": "execute_result"
    }
   ],
   "source": [
    "CV_features[0]"
   ]
  },
  {
   "cell_type": "code",
   "execution_count": null,
   "id": "d1c52ba6",
   "metadata": {},
   "outputs": [],
   "source": []
  },
  {
   "cell_type": "code",
   "execution_count": 60,
   "id": "8d779cdb",
   "metadata": {},
   "outputs": [
    {
     "data": {
      "text/plain": [
       "scipy.sparse._csr.csr_matrix"
      ]
     },
     "execution_count": 60,
     "metadata": {},
     "output_type": "execute_result"
    }
   ],
   "source": [
    "type(CV_features[0])  # each row is a compressed spare row "
   ]
  },
  {
   "cell_type": "code",
   "execution_count": 61,
   "id": "96fd0554",
   "metadata": {},
   "outputs": [
    {
     "data": {
      "text/plain": [
       "matrix([[0, 0, 0, ..., 0, 0, 0]], dtype=int64)"
      ]
     },
     "execution_count": 61,
     "metadata": {},
     "output_type": "execute_result"
    }
   ],
   "source": [
    "CV_features[0].todense()  # decompressing the CSR data"
   ]
  },
  {
   "cell_type": "code",
   "execution_count": 62,
   "id": "740fd79c",
   "metadata": {},
   "outputs": [
    {
     "data": {
      "text/html": [
       "<div>\n",
       "<style scoped>\n",
       "    .dataframe tbody tr th:only-of-type {\n",
       "        vertical-align: middle;\n",
       "    }\n",
       "\n",
       "    .dataframe tbody tr th {\n",
       "        vertical-align: top;\n",
       "    }\n",
       "\n",
       "    .dataframe thead th {\n",
       "        text-align: right;\n",
       "    }\n",
       "</style>\n",
       "<table border=\"1\" class=\"dataframe\">\n",
       "  <thead>\n",
       "    <tr style=\"text-align: right;\">\n",
       "      <th></th>\n",
       "      <th>0</th>\n",
       "      <th>1</th>\n",
       "      <th>2</th>\n",
       "      <th>3</th>\n",
       "      <th>4</th>\n",
       "      <th>5</th>\n",
       "      <th>6</th>\n",
       "      <th>7</th>\n",
       "      <th>8</th>\n",
       "      <th>9</th>\n",
       "      <th>...</th>\n",
       "      <th>15945</th>\n",
       "      <th>15946</th>\n",
       "      <th>15947</th>\n",
       "      <th>15948</th>\n",
       "      <th>15949</th>\n",
       "      <th>15950</th>\n",
       "      <th>15951</th>\n",
       "      <th>15952</th>\n",
       "      <th>15953</th>\n",
       "      <th>15954</th>\n",
       "    </tr>\n",
       "  </thead>\n",
       "  <tbody>\n",
       "    <tr>\n",
       "      <th>0</th>\n",
       "      <td>0</td>\n",
       "      <td>0</td>\n",
       "      <td>0</td>\n",
       "      <td>0</td>\n",
       "      <td>0</td>\n",
       "      <td>0</td>\n",
       "      <td>0</td>\n",
       "      <td>0</td>\n",
       "      <td>0</td>\n",
       "      <td>0</td>\n",
       "      <td>...</td>\n",
       "      <td>0</td>\n",
       "      <td>0</td>\n",
       "      <td>0</td>\n",
       "      <td>0</td>\n",
       "      <td>0</td>\n",
       "      <td>0</td>\n",
       "      <td>0</td>\n",
       "      <td>0</td>\n",
       "      <td>0</td>\n",
       "      <td>0</td>\n",
       "    </tr>\n",
       "    <tr>\n",
       "      <th>1</th>\n",
       "      <td>0</td>\n",
       "      <td>0</td>\n",
       "      <td>0</td>\n",
       "      <td>0</td>\n",
       "      <td>0</td>\n",
       "      <td>0</td>\n",
       "      <td>0</td>\n",
       "      <td>0</td>\n",
       "      <td>0</td>\n",
       "      <td>0</td>\n",
       "      <td>...</td>\n",
       "      <td>0</td>\n",
       "      <td>0</td>\n",
       "      <td>0</td>\n",
       "      <td>0</td>\n",
       "      <td>0</td>\n",
       "      <td>0</td>\n",
       "      <td>0</td>\n",
       "      <td>0</td>\n",
       "      <td>0</td>\n",
       "      <td>0</td>\n",
       "    </tr>\n",
       "    <tr>\n",
       "      <th>2</th>\n",
       "      <td>0</td>\n",
       "      <td>0</td>\n",
       "      <td>0</td>\n",
       "      <td>0</td>\n",
       "      <td>0</td>\n",
       "      <td>0</td>\n",
       "      <td>0</td>\n",
       "      <td>0</td>\n",
       "      <td>0</td>\n",
       "      <td>0</td>\n",
       "      <td>...</td>\n",
       "      <td>0</td>\n",
       "      <td>0</td>\n",
       "      <td>0</td>\n",
       "      <td>0</td>\n",
       "      <td>0</td>\n",
       "      <td>0</td>\n",
       "      <td>0</td>\n",
       "      <td>0</td>\n",
       "      <td>0</td>\n",
       "      <td>0</td>\n",
       "    </tr>\n",
       "    <tr>\n",
       "      <th>3</th>\n",
       "      <td>0</td>\n",
       "      <td>0</td>\n",
       "      <td>0</td>\n",
       "      <td>0</td>\n",
       "      <td>0</td>\n",
       "      <td>0</td>\n",
       "      <td>0</td>\n",
       "      <td>0</td>\n",
       "      <td>0</td>\n",
       "      <td>0</td>\n",
       "      <td>...</td>\n",
       "      <td>0</td>\n",
       "      <td>0</td>\n",
       "      <td>0</td>\n",
       "      <td>0</td>\n",
       "      <td>0</td>\n",
       "      <td>0</td>\n",
       "      <td>0</td>\n",
       "      <td>0</td>\n",
       "      <td>0</td>\n",
       "      <td>0</td>\n",
       "    </tr>\n",
       "    <tr>\n",
       "      <th>4</th>\n",
       "      <td>0</td>\n",
       "      <td>0</td>\n",
       "      <td>0</td>\n",
       "      <td>0</td>\n",
       "      <td>0</td>\n",
       "      <td>0</td>\n",
       "      <td>0</td>\n",
       "      <td>0</td>\n",
       "      <td>0</td>\n",
       "      <td>0</td>\n",
       "      <td>...</td>\n",
       "      <td>0</td>\n",
       "      <td>0</td>\n",
       "      <td>0</td>\n",
       "      <td>0</td>\n",
       "      <td>0</td>\n",
       "      <td>0</td>\n",
       "      <td>0</td>\n",
       "      <td>0</td>\n",
       "      <td>0</td>\n",
       "      <td>0</td>\n",
       "    </tr>\n",
       "    <tr>\n",
       "      <th>...</th>\n",
       "      <td>...</td>\n",
       "      <td>...</td>\n",
       "      <td>...</td>\n",
       "      <td>...</td>\n",
       "      <td>...</td>\n",
       "      <td>...</td>\n",
       "      <td>...</td>\n",
       "      <td>...</td>\n",
       "      <td>...</td>\n",
       "      <td>...</td>\n",
       "      <td>...</td>\n",
       "      <td>...</td>\n",
       "      <td>...</td>\n",
       "      <td>...</td>\n",
       "      <td>...</td>\n",
       "      <td>...</td>\n",
       "      <td>...</td>\n",
       "      <td>...</td>\n",
       "      <td>...</td>\n",
       "      <td>...</td>\n",
       "      <td>...</td>\n",
       "    </tr>\n",
       "    <tr>\n",
       "      <th>7915</th>\n",
       "      <td>0</td>\n",
       "      <td>0</td>\n",
       "      <td>0</td>\n",
       "      <td>0</td>\n",
       "      <td>0</td>\n",
       "      <td>0</td>\n",
       "      <td>0</td>\n",
       "      <td>0</td>\n",
       "      <td>0</td>\n",
       "      <td>0</td>\n",
       "      <td>...</td>\n",
       "      <td>0</td>\n",
       "      <td>0</td>\n",
       "      <td>0</td>\n",
       "      <td>0</td>\n",
       "      <td>0</td>\n",
       "      <td>0</td>\n",
       "      <td>0</td>\n",
       "      <td>0</td>\n",
       "      <td>0</td>\n",
       "      <td>0</td>\n",
       "    </tr>\n",
       "    <tr>\n",
       "      <th>7916</th>\n",
       "      <td>0</td>\n",
       "      <td>0</td>\n",
       "      <td>0</td>\n",
       "      <td>0</td>\n",
       "      <td>0</td>\n",
       "      <td>0</td>\n",
       "      <td>0</td>\n",
       "      <td>0</td>\n",
       "      <td>0</td>\n",
       "      <td>0</td>\n",
       "      <td>...</td>\n",
       "      <td>0</td>\n",
       "      <td>0</td>\n",
       "      <td>0</td>\n",
       "      <td>0</td>\n",
       "      <td>0</td>\n",
       "      <td>0</td>\n",
       "      <td>0</td>\n",
       "      <td>0</td>\n",
       "      <td>0</td>\n",
       "      <td>0</td>\n",
       "    </tr>\n",
       "    <tr>\n",
       "      <th>7917</th>\n",
       "      <td>0</td>\n",
       "      <td>0</td>\n",
       "      <td>0</td>\n",
       "      <td>0</td>\n",
       "      <td>0</td>\n",
       "      <td>0</td>\n",
       "      <td>0</td>\n",
       "      <td>0</td>\n",
       "      <td>0</td>\n",
       "      <td>0</td>\n",
       "      <td>...</td>\n",
       "      <td>0</td>\n",
       "      <td>0</td>\n",
       "      <td>0</td>\n",
       "      <td>0</td>\n",
       "      <td>0</td>\n",
       "      <td>0</td>\n",
       "      <td>0</td>\n",
       "      <td>0</td>\n",
       "      <td>0</td>\n",
       "      <td>0</td>\n",
       "    </tr>\n",
       "    <tr>\n",
       "      <th>7918</th>\n",
       "      <td>0</td>\n",
       "      <td>0</td>\n",
       "      <td>0</td>\n",
       "      <td>0</td>\n",
       "      <td>0</td>\n",
       "      <td>0</td>\n",
       "      <td>0</td>\n",
       "      <td>0</td>\n",
       "      <td>0</td>\n",
       "      <td>0</td>\n",
       "      <td>...</td>\n",
       "      <td>0</td>\n",
       "      <td>0</td>\n",
       "      <td>0</td>\n",
       "      <td>0</td>\n",
       "      <td>0</td>\n",
       "      <td>0</td>\n",
       "      <td>0</td>\n",
       "      <td>0</td>\n",
       "      <td>0</td>\n",
       "      <td>0</td>\n",
       "    </tr>\n",
       "    <tr>\n",
       "      <th>7919</th>\n",
       "      <td>0</td>\n",
       "      <td>0</td>\n",
       "      <td>0</td>\n",
       "      <td>0</td>\n",
       "      <td>0</td>\n",
       "      <td>0</td>\n",
       "      <td>0</td>\n",
       "      <td>0</td>\n",
       "      <td>0</td>\n",
       "      <td>0</td>\n",
       "      <td>...</td>\n",
       "      <td>0</td>\n",
       "      <td>0</td>\n",
       "      <td>0</td>\n",
       "      <td>0</td>\n",
       "      <td>0</td>\n",
       "      <td>0</td>\n",
       "      <td>0</td>\n",
       "      <td>0</td>\n",
       "      <td>0</td>\n",
       "      <td>0</td>\n",
       "    </tr>\n",
       "  </tbody>\n",
       "</table>\n",
       "<p>7920 rows × 15955 columns</p>\n",
       "</div>"
      ],
      "text/plain": [
       "      0      1      2      3      4      5      6      7      8      9      \\\n",
       "0         0      0      0      0      0      0      0      0      0      0   \n",
       "1         0      0      0      0      0      0      0      0      0      0   \n",
       "2         0      0      0      0      0      0      0      0      0      0   \n",
       "3         0      0      0      0      0      0      0      0      0      0   \n",
       "4         0      0      0      0      0      0      0      0      0      0   \n",
       "...     ...    ...    ...    ...    ...    ...    ...    ...    ...    ...   \n",
       "7915      0      0      0      0      0      0      0      0      0      0   \n",
       "7916      0      0      0      0      0      0      0      0      0      0   \n",
       "7917      0      0      0      0      0      0      0      0      0      0   \n",
       "7918      0      0      0      0      0      0      0      0      0      0   \n",
       "7919      0      0      0      0      0      0      0      0      0      0   \n",
       "\n",
       "      ...  15945  15946  15947  15948  15949  15950  15951  15952  15953  \\\n",
       "0     ...      0      0      0      0      0      0      0      0      0   \n",
       "1     ...      0      0      0      0      0      0      0      0      0   \n",
       "2     ...      0      0      0      0      0      0      0      0      0   \n",
       "3     ...      0      0      0      0      0      0      0      0      0   \n",
       "4     ...      0      0      0      0      0      0      0      0      0   \n",
       "...   ...    ...    ...    ...    ...    ...    ...    ...    ...    ...   \n",
       "7915  ...      0      0      0      0      0      0      0      0      0   \n",
       "7916  ...      0      0      0      0      0      0      0      0      0   \n",
       "7917  ...      0      0      0      0      0      0      0      0      0   \n",
       "7918  ...      0      0      0      0      0      0      0      0      0   \n",
       "7919  ...      0      0      0      0      0      0      0      0      0   \n",
       "\n",
       "      15954  \n",
       "0         0  \n",
       "1         0  \n",
       "2         0  \n",
       "3         0  \n",
       "4         0  \n",
       "...     ...  \n",
       "7915      0  \n",
       "7916      0  \n",
       "7917      0  \n",
       "7918      0  \n",
       "7919      0  \n",
       "\n",
       "[7920 rows x 15955 columns]"
      ]
     },
     "execution_count": 62,
     "metadata": {},
     "output_type": "execute_result"
    }
   ],
   "source": [
    "import pandas as pd\n",
    "df = pd.DataFrame(CV_features.todense() )\n",
    "df  "
   ]
  },
  {
   "cell_type": "code",
   "execution_count": 63,
   "id": "def61af3",
   "metadata": {},
   "outputs": [
    {
     "data": {
      "text/plain": [
       "126.3636"
      ]
     },
     "execution_count": 63,
     "metadata": {},
     "output_type": "execute_result"
    }
   ],
   "source": [
    "df.size/1e6  # these many elements/numbers are presnt in the df"
   ]
  },
  {
   "cell_type": "code",
   "execution_count": 64,
   "id": "76f78d34",
   "metadata": {},
   "outputs": [
    {
     "data": {
      "text/plain": [
       "114973"
      ]
     },
     "execution_count": 64,
     "metadata": {},
     "output_type": "execute_result"
    }
   ],
   "source": [
    "import numpy as np\n",
    "np.count_nonzero(df)"
   ]
  },
  {
   "cell_type": "code",
   "execution_count": 65,
   "id": "c2d68b8c",
   "metadata": {},
   "outputs": [
    {
     "data": {
      "text/plain": [
       "0.09098585352110893"
      ]
     },
     "execution_count": 65,
     "metadata": {},
     "output_type": "execute_result"
    }
   ],
   "source": [
    "100*np.count_nonzero(df)/df.size # percent of the non-zero elements i nthe df"
   ]
  },
  {
   "cell_type": "code",
   "execution_count": 66,
   "id": "2607ec8d",
   "metadata": {},
   "outputs": [
    {
     "name": "stdout",
     "output_type": "stream",
     "text": [
      "['aa' 'aaaahhhhhhh' 'aag' 'aah' 'aalborg' 'aand' 'aapl' 'aarhus' 'aaron'\n",
      " 'aarp' 'aarrrggghhhh' 'aashamsakal' 'aaydojbfkq' 'aayp' 'ab' 'abah'\n",
      " 'abareta' 'abay' 'abb' 'abc' 'abdou' 'abe' 'aber' 'abercrombie' 'abi'\n",
      " 'ability' 'abit' 'able' 'ableton' 'abnqum' 'aboard' 'about' 'aboutalook'\n",
      " 'aboutdamntime' 'abouttime' 'abouttonight' 'above' 'abp' 'abscbn'\n",
      " 'absence' 'absolute' 'absolutely' 'absurd' 'abu' 'abudhabi' 'abuja'\n",
      " 'abujacity' 'abujafct' 'abujapeople' 'abujaphones']\n"
     ]
    }
   ],
   "source": [
    "print(CV.get_feature_names_out()[:50])  # these the vocab words"
   ]
  },
  {
   "cell_type": "code",
   "execution_count": null,
   "id": "403d67e4",
   "metadata": {},
   "outputs": [],
   "source": []
  },
  {
   "cell_type": "code",
   "execution_count": 67,
   "id": "6d09f6d7",
   "metadata": {},
   "outputs": [
    {
     "data": {
      "text/plain": [
       "15955"
      ]
     },
     "execution_count": 67,
     "metadata": {},
     "output_type": "execute_result"
    }
   ],
   "source": [
    "len(CV.get_feature_names_out())"
   ]
  },
  {
   "cell_type": "code",
   "execution_count": 68,
   "id": "54d6d866",
   "metadata": {},
   "outputs": [
    {
     "data": {
      "text/plain": [
       "matrix([[0, 0, 0, ..., 0, 0, 0]], dtype=int64)"
      ]
     },
     "execution_count": 68,
     "metadata": {},
     "output_type": "execute_result"
    }
   ],
   "source": [
    "CV_features[10].todense()  # these are numbers corresponding to the 11th tweet"
   ]
  },
  {
   "cell_type": "code",
   "execution_count": 69,
   "id": "0e765ec8",
   "metadata": {},
   "outputs": [
    {
     "data": {
      "text/plain": [
       "[array(['apple', 'color', 'crash', 'do', 'every', 'five', 'fuckin', 'hey',\n",
       "        'inch', 'ipod', 'it', 'make', 'minite', 'new', 'not', 'or',\n",
       "        'thinner', 'when', 'you'], dtype='<U41')]"
      ]
     },
     "execution_count": 69,
     "metadata": {},
     "output_type": "execute_result"
    }
   ],
   "source": [
    "CV.inverse_transform(np.asarray(CV_features[10].todense()))  # actual words in the 10th tweet"
   ]
  },
  {
   "cell_type": "markdown",
   "id": "e6dd7b9a",
   "metadata": {},
   "source": [
    "# 5. Model building"
   ]
  },
  {
   "cell_type": "code",
   "execution_count": 70,
   "id": "4c72611d",
   "metadata": {},
   "outputs": [],
   "source": [
    "from sklearn.model_selection import train_test_split\n",
    "\n",
    "X_train, X_test, y_train, y_test = train_test_split(CV_features, data['label'], test_size=0.25, stratify=data['label'], random_state=42)"
   ]
  },
  {
   "cell_type": "code",
   "execution_count": 71,
   "id": "2a3b3020",
   "metadata": {},
   "outputs": [
    {
     "name": "stdout",
     "output_type": "stream",
     "text": [
      "0.9782828282828283\n",
      "0.8808080808080808\n"
     ]
    }
   ],
   "source": [
    "from sklearn.linear_model import LogisticRegression\n",
    "LR = LogisticRegression()\n",
    "LR.fit(X_train, y_train)\n",
    "\n",
    "print(LR.score(X_train, y_train))  # train score)\n",
    "print(LR.score(X_test, y_test))   # test score)  "
   ]
  },
  {
   "cell_type": "code",
   "execution_count": 72,
   "id": "82c2b527",
   "metadata": {},
   "outputs": [
    {
     "name": "stdout",
     "output_type": "stream",
     "text": [
      "0.9038720538720538\n",
      "0.8813131313131313\n"
     ]
    }
   ],
   "source": [
    "## L1-REGULARIZATION\n",
    "LR1 = LogisticRegression(class_weight='balanced', solver='liblinear', penalty='l1', C=0.4)\n",
    "LR1.fit(X_train, y_train)\n",
    "\n",
    "print(LR1.score(X_train, y_train))  # train score)\n",
    "print(LR1.score(X_test, y_test))   # test score)      "
   ]
  },
  {
   "cell_type": "code",
   "execution_count": 73,
   "id": "7b364a8e",
   "metadata": {},
   "outputs": [],
   "source": [
    "## leT'S Cross-Validate the Logistic Regression Model ?????\n",
    "from sklearn.model_selection import cross_val_score, cross_validate\n",
    "from sklearn.model_selection import StratifiedKFold"
   ]
  },
  {
   "cell_type": "code",
   "execution_count": 74,
   "id": "fcaf89c2",
   "metadata": {},
   "outputs": [],
   "source": [
    "X = CV_features\n",
    "y = data['label']"
   ]
  },
  {
   "cell_type": "code",
   "execution_count": 75,
   "id": "7c55927c",
   "metadata": {},
   "outputs": [
    {
     "name": "stdout",
     "output_type": "stream",
     "text": [
      "[0.88320707 0.86931818 0.87752525 0.89772727 0.88699495]\n",
      "88.3 0.95\n"
     ]
    }
   ],
   "source": [
    "## crOSS VALIDATE THE LR1 model\n",
    "\n",
    "LR1 = LogisticRegression(class_weight='balanced', solver='liblinear', penalty='l1', C=0.4)\n",
    "kfold = StratifiedKFold(n_splits=5, shuffle=True, random_state=42)\n",
    "results = cross_val_score(LR1, X, y, cv=kfold, scoring='accuracy')\n",
    "print(results)\n",
    "print(np.round((results.mean())*100, 2), np.round((results.std())*100, 2)) "
   ]
  },
  {
   "cell_type": "code",
   "execution_count": 76,
   "id": "97d2ef36",
   "metadata": {},
   "outputs": [],
   "source": [
    "# your's accuracy = 88.23 +/- 0.93 %"
   ]
  },
  {
   "cell_type": "code",
   "execution_count": 77,
   "id": "3b5cbe8e",
   "metadata": {},
   "outputs": [],
   "source": [
    "kfold = StratifiedKFold(n_splits=5, shuffle=True, random_state=42)\n",
    "results = cross_validate(LR1, X, y, cv=kfold, scoring='accuracy', return_train_score=True)"
   ]
  },
  {
   "cell_type": "code",
   "execution_count": 78,
   "id": "f4195164",
   "metadata": {},
   "outputs": [
    {
     "data": {
      "text/plain": [
       "{'fit_time': array([0.03169537, 0.02491975, 0.02315164, 0.02538776, 0.03995752]),\n",
       " 'score_time': array([0.00099707, 0.00217724, 0.0010016 , 0.00101995, 0.00100732]),\n",
       " 'test_score': array([0.88320707, 0.86931818, 0.87752525, 0.89709596, 0.88699495]),\n",
       " 'train_score': array([0.90388258, 0.90909091, 0.9040404 , 0.90372475, 0.90435606])}"
      ]
     },
     "execution_count": 78,
     "metadata": {},
     "output_type": "execute_result"
    }
   ],
   "source": [
    "results"
   ]
  },
  {
   "cell_type": "code",
   "execution_count": 79,
   "id": "dbcf5a18",
   "metadata": {},
   "outputs": [
    {
     "name": "stdout",
     "output_type": "stream",
     "text": [
      "[0.90388258 0.90909091 0.9040404  0.90372475 0.90435606]\n",
      "90.5 0.2\n"
     ]
    }
   ],
   "source": [
    "print(results['train_score'])\n",
    "print(np.round((results['train_score'].mean())*100, 2), np.round((results['train_score'].std())*100, 2)) "
   ]
  },
  {
   "cell_type": "code",
   "execution_count": 80,
   "id": "9762fdf9",
   "metadata": {},
   "outputs": [
    {
     "name": "stdout",
     "output_type": "stream",
     "text": [
      "[0.88320707 0.86931818 0.87752525 0.89709596 0.88699495]\n",
      "88.28 0.93\n"
     ]
    }
   ],
   "source": [
    "print(results['test_score'])\n",
    "print(np.round((results['test_score'].mean())*100, 2), np.round((results['test_score'].std())*100, 2)) "
   ]
  },
  {
   "cell_type": "markdown",
   "id": "1d1407d8",
   "metadata": {},
   "source": [
    "## Hyper parameter tuning of the LR1 model"
   ]
  },
  {
   "cell_type": "code",
   "execution_count": 81,
   "id": "0db78851",
   "metadata": {},
   "outputs": [
    {
     "name": "stdout",
     "output_type": "stream",
     "text": [
      "Fitting 5 folds for each of 20 candidates, totalling 100 fits\n"
     ]
    }
   ],
   "source": [
    "## Hyper parameter tuning of the LR1 model\n",
    "from sklearn.model_selection import GridSearchCV\n",
    "\n",
    "LR1 = LogisticRegression(class_weight='balanced', solver='liblinear', penalty='l1')\n",
    "\n",
    "C_values = np.arange(0.00001, 1, 0.05) # 20 values\n",
    "\n",
    "grid = GridSearchCV(estimator=LR1, param_grid={'C': C_values}, cv=kfold, scoring='accuracy', \\\n",
    "                    return_train_score=True, verbose=2, n_jobs=-1)\n",
    "grid_results = grid.fit(X,y)"
   ]
  },
  {
   "cell_type": "code",
   "execution_count": 82,
   "id": "443d5137",
   "metadata": {},
   "outputs": [
    {
     "data": {
      "text/html": [
       "<style>#sk-container-id-1 {color: black;}#sk-container-id-1 pre{padding: 0;}#sk-container-id-1 div.sk-toggleable {background-color: white;}#sk-container-id-1 label.sk-toggleable__label {cursor: pointer;display: block;width: 100%;margin-bottom: 0;padding: 0.3em;box-sizing: border-box;text-align: center;}#sk-container-id-1 label.sk-toggleable__label-arrow:before {content: \"▸\";float: left;margin-right: 0.25em;color: #696969;}#sk-container-id-1 label.sk-toggleable__label-arrow:hover:before {color: black;}#sk-container-id-1 div.sk-estimator:hover label.sk-toggleable__label-arrow:before {color: black;}#sk-container-id-1 div.sk-toggleable__content {max-height: 0;max-width: 0;overflow: hidden;text-align: left;background-color: #f0f8ff;}#sk-container-id-1 div.sk-toggleable__content pre {margin: 0.2em;color: black;border-radius: 0.25em;background-color: #f0f8ff;}#sk-container-id-1 input.sk-toggleable__control:checked~div.sk-toggleable__content {max-height: 200px;max-width: 100%;overflow: auto;}#sk-container-id-1 input.sk-toggleable__control:checked~label.sk-toggleable__label-arrow:before {content: \"▾\";}#sk-container-id-1 div.sk-estimator input.sk-toggleable__control:checked~label.sk-toggleable__label {background-color: #d4ebff;}#sk-container-id-1 div.sk-label input.sk-toggleable__control:checked~label.sk-toggleable__label {background-color: #d4ebff;}#sk-container-id-1 input.sk-hidden--visually {border: 0;clip: rect(1px 1px 1px 1px);clip: rect(1px, 1px, 1px, 1px);height: 1px;margin: -1px;overflow: hidden;padding: 0;position: absolute;width: 1px;}#sk-container-id-1 div.sk-estimator {font-family: monospace;background-color: #f0f8ff;border: 1px dotted black;border-radius: 0.25em;box-sizing: border-box;margin-bottom: 0.5em;}#sk-container-id-1 div.sk-estimator:hover {background-color: #d4ebff;}#sk-container-id-1 div.sk-parallel-item::after {content: \"\";width: 100%;border-bottom: 1px solid gray;flex-grow: 1;}#sk-container-id-1 div.sk-label:hover label.sk-toggleable__label {background-color: #d4ebff;}#sk-container-id-1 div.sk-serial::before {content: \"\";position: absolute;border-left: 1px solid gray;box-sizing: border-box;top: 0;bottom: 0;left: 50%;z-index: 0;}#sk-container-id-1 div.sk-serial {display: flex;flex-direction: column;align-items: center;background-color: white;padding-right: 0.2em;padding-left: 0.2em;position: relative;}#sk-container-id-1 div.sk-item {position: relative;z-index: 1;}#sk-container-id-1 div.sk-parallel {display: flex;align-items: stretch;justify-content: center;background-color: white;position: relative;}#sk-container-id-1 div.sk-item::before, #sk-container-id-1 div.sk-parallel-item::before {content: \"\";position: absolute;border-left: 1px solid gray;box-sizing: border-box;top: 0;bottom: 0;left: 50%;z-index: -1;}#sk-container-id-1 div.sk-parallel-item {display: flex;flex-direction: column;z-index: 1;position: relative;background-color: white;}#sk-container-id-1 div.sk-parallel-item:first-child::after {align-self: flex-end;width: 50%;}#sk-container-id-1 div.sk-parallel-item:last-child::after {align-self: flex-start;width: 50%;}#sk-container-id-1 div.sk-parallel-item:only-child::after {width: 0;}#sk-container-id-1 div.sk-dashed-wrapped {border: 1px dashed gray;margin: 0 0.4em 0.5em 0.4em;box-sizing: border-box;padding-bottom: 0.4em;background-color: white;}#sk-container-id-1 div.sk-label label {font-family: monospace;font-weight: bold;display: inline-block;line-height: 1.2em;}#sk-container-id-1 div.sk-label-container {text-align: center;}#sk-container-id-1 div.sk-container {/* jupyter's `normalize.less` sets `[hidden] { display: none; }` but bootstrap.min.css set `[hidden] { display: none !important; }` so we also need the `!important` here to be able to override the default hidden behavior on the sphinx rendered scikit-learn.org. See: https://github.com/scikit-learn/scikit-learn/issues/21755 */display: inline-block !important;position: relative;}#sk-container-id-1 div.sk-text-repr-fallback {display: none;}</style><div id=\"sk-container-id-1\" class=\"sk-top-container\"><div class=\"sk-text-repr-fallback\"><pre>GridSearchCV(cv=StratifiedKFold(n_splits=5, random_state=42, shuffle=True),\n",
       "             estimator=LogisticRegression(class_weight=&#x27;balanced&#x27;, penalty=&#x27;l1&#x27;,\n",
       "                                          solver=&#x27;liblinear&#x27;),\n",
       "             n_jobs=-1,\n",
       "             param_grid={&#x27;C&#x27;: array([1.0000e-05, 5.0010e-02, 1.0001e-01, 1.5001e-01, 2.0001e-01,\n",
       "       2.5001e-01, 3.0001e-01, 3.5001e-01, 4.0001e-01, 4.5001e-01,\n",
       "       5.0001e-01, 5.5001e-01, 6.0001e-01, 6.5001e-01, 7.0001e-01,\n",
       "       7.5001e-01, 8.0001e-01, 8.5001e-01, 9.0001e-01, 9.5001e-01])},\n",
       "             return_train_score=True, scoring=&#x27;accuracy&#x27;, verbose=2)</pre><b>In a Jupyter environment, please rerun this cell to show the HTML representation or trust the notebook. <br />On GitHub, the HTML representation is unable to render, please try loading this page with nbviewer.org.</b></div><div class=\"sk-container\" hidden><div class=\"sk-item sk-dashed-wrapped\"><div class=\"sk-label-container\"><div class=\"sk-label sk-toggleable\"><input class=\"sk-toggleable__control sk-hidden--visually\" id=\"sk-estimator-id-1\" type=\"checkbox\" ><label for=\"sk-estimator-id-1\" class=\"sk-toggleable__label sk-toggleable__label-arrow\">GridSearchCV</label><div class=\"sk-toggleable__content\"><pre>GridSearchCV(cv=StratifiedKFold(n_splits=5, random_state=42, shuffle=True),\n",
       "             estimator=LogisticRegression(class_weight=&#x27;balanced&#x27;, penalty=&#x27;l1&#x27;,\n",
       "                                          solver=&#x27;liblinear&#x27;),\n",
       "             n_jobs=-1,\n",
       "             param_grid={&#x27;C&#x27;: array([1.0000e-05, 5.0010e-02, 1.0001e-01, 1.5001e-01, 2.0001e-01,\n",
       "       2.5001e-01, 3.0001e-01, 3.5001e-01, 4.0001e-01, 4.5001e-01,\n",
       "       5.0001e-01, 5.5001e-01, 6.0001e-01, 6.5001e-01, 7.0001e-01,\n",
       "       7.5001e-01, 8.0001e-01, 8.5001e-01, 9.0001e-01, 9.5001e-01])},\n",
       "             return_train_score=True, scoring=&#x27;accuracy&#x27;, verbose=2)</pre></div></div></div><div class=\"sk-parallel\"><div class=\"sk-parallel-item\"><div class=\"sk-item\"><div class=\"sk-label-container\"><div class=\"sk-label sk-toggleable\"><input class=\"sk-toggleable__control sk-hidden--visually\" id=\"sk-estimator-id-2\" type=\"checkbox\" ><label for=\"sk-estimator-id-2\" class=\"sk-toggleable__label sk-toggleable__label-arrow\">estimator: LogisticRegression</label><div class=\"sk-toggleable__content\"><pre>LogisticRegression(class_weight=&#x27;balanced&#x27;, penalty=&#x27;l1&#x27;, solver=&#x27;liblinear&#x27;)</pre></div></div></div><div class=\"sk-serial\"><div class=\"sk-item\"><div class=\"sk-estimator sk-toggleable\"><input class=\"sk-toggleable__control sk-hidden--visually\" id=\"sk-estimator-id-3\" type=\"checkbox\" ><label for=\"sk-estimator-id-3\" class=\"sk-toggleable__label sk-toggleable__label-arrow\">LogisticRegression</label><div class=\"sk-toggleable__content\"><pre>LogisticRegression(class_weight=&#x27;balanced&#x27;, penalty=&#x27;l1&#x27;, solver=&#x27;liblinear&#x27;)</pre></div></div></div></div></div></div></div></div></div></div>"
      ],
      "text/plain": [
       "GridSearchCV(cv=StratifiedKFold(n_splits=5, random_state=42, shuffle=True),\n",
       "             estimator=LogisticRegression(class_weight='balanced', penalty='l1',\n",
       "                                          solver='liblinear'),\n",
       "             n_jobs=-1,\n",
       "             param_grid={'C': array([1.0000e-05, 5.0010e-02, 1.0001e-01, 1.5001e-01, 2.0001e-01,\n",
       "       2.5001e-01, 3.0001e-01, 3.5001e-01, 4.0001e-01, 4.5001e-01,\n",
       "       5.0001e-01, 5.5001e-01, 6.0001e-01, 6.5001e-01, 7.0001e-01,\n",
       "       7.5001e-01, 8.0001e-01, 8.5001e-01, 9.0001e-01, 9.5001e-01])},\n",
       "             return_train_score=True, scoring='accuracy', verbose=2)"
      ]
     },
     "execution_count": 82,
     "metadata": {},
     "output_type": "execute_result"
    }
   ],
   "source": [
    "grid_results"
   ]
  },
  {
   "cell_type": "code",
   "execution_count": 83,
   "id": "774eaa39",
   "metadata": {},
   "outputs": [
    {
     "data": {
      "text/plain": [
       "({'C': 0.95001}, 0.8902777777777777, 19)"
      ]
     },
     "execution_count": 83,
     "metadata": {},
     "output_type": "execute_result"
    }
   ],
   "source": [
    "grid_results.best_params_, grid_results.best_score_, grid_results.best_index_"
   ]
  },
  {
   "cell_type": "code",
   "execution_count": 84,
   "id": "f9061881",
   "metadata": {},
   "outputs": [
    {
     "data": {
      "text/plain": [
       "dict_keys(['mean_fit_time', 'std_fit_time', 'mean_score_time', 'std_score_time', 'param_C', 'params', 'split0_test_score', 'split1_test_score', 'split2_test_score', 'split3_test_score', 'split4_test_score', 'mean_test_score', 'std_test_score', 'rank_test_score', 'split0_train_score', 'split1_train_score', 'split2_train_score', 'split3_train_score', 'split4_train_score', 'mean_train_score', 'std_train_score'])"
      ]
     },
     "execution_count": 84,
     "metadata": {},
     "output_type": "execute_result"
    }
   ],
   "source": [
    "grid_results.cv_results_.keys()"
   ]
  },
  {
   "cell_type": "code",
   "execution_count": 85,
   "id": "e986baef",
   "metadata": {},
   "outputs": [
    {
     "data": {
      "text/plain": [
       "89.02777777777777"
      ]
     },
     "execution_count": 85,
     "metadata": {},
     "output_type": "execute_result"
    }
   ],
   "source": [
    "grid_results.cv_results_['mean_test_score'][grid_results.best_index_]*100"
   ]
  },
  {
   "cell_type": "code",
   "execution_count": 86,
   "id": "f6302ce0",
   "metadata": {},
   "outputs": [
    {
     "data": {
      "text/plain": [
       "93.28282828282829"
      ]
     },
     "execution_count": 86,
     "metadata": {},
     "output_type": "execute_result"
    }
   ],
   "source": [
    "grid_results.cv_results_['mean_train_score'][grid_results.best_index_]*100\n",
    "\n",
    "# means your \"best-fitted\" model from GridsearchCV is (could be) still OVERFITTED!!!!!!!!!"
   ]
  },
  {
   "cell_type": "code",
   "execution_count": 87,
   "id": "8b424b9b",
   "metadata": {},
   "outputs": [
    {
     "data": {
      "text/plain": [
       "0.6614040835206474"
      ]
     },
     "execution_count": 87,
     "metadata": {},
     "output_type": "execute_result"
    }
   ],
   "source": [
    "grid_results.cv_results_['std_test_score'][grid_results.best_index_]*100"
   ]
  },
  {
   "cell_type": "code",
   "execution_count": 88,
   "id": "ef6fdcfa",
   "metadata": {},
   "outputs": [
    {
     "data": {
      "text/plain": [
       "array([0.74419192, 0.84494949, 0.86338384, 0.87171717, 0.87537879,\n",
       "       0.8790404 , 0.88017677, 0.88156566, 0.88282828, 0.88497475,\n",
       "       0.88560606, 0.88661616, 0.88699495, 0.88863636, 0.88939394,\n",
       "       0.88901515, 0.8895202 , 0.88939394, 0.89015152, 0.89027778])"
      ]
     },
     "execution_count": 88,
     "metadata": {},
     "output_type": "execute_result"
    }
   ],
   "source": [
    "grid_results.cv_results_['mean_test_score']"
   ]
  },
  {
   "cell_type": "code",
   "execution_count": 89,
   "id": "b40bc4d2",
   "metadata": {},
   "outputs": [
    {
     "data": {
      "text/plain": [
       "array([0.74419192, 0.85      , 0.86998106, 0.88030303, 0.88712121,\n",
       "       0.89232955, 0.89649621, 0.90094697, 0.90501894, 0.90811237,\n",
       "       0.91003788, 0.91344697, 0.91568813, 0.91856061, 0.92130682,\n",
       "       0.92332702, 0.92607323, 0.92856692, 0.93055556, 0.93282828])"
      ]
     },
     "execution_count": 89,
     "metadata": {},
     "output_type": "execute_result"
    }
   ],
   "source": [
    "grid_results.cv_results_['mean_train_score']"
   ]
  },
  {
   "cell_type": "code",
   "execution_count": 90,
   "id": "e611e951",
   "metadata": {
    "scrolled": true
   },
   "outputs": [
    {
     "data": {
      "text/plain": [
       "[<matplotlib.lines.Line2D at 0x2512eec93d0>]"
      ]
     },
     "execution_count": 90,
     "metadata": {},
     "output_type": "execute_result"
    },
    {
     "data": {
      "image/png": "[encoded data removed]",
      "text/plain": [
       "<Figure size 640x480 with 1 Axes>"
      ]
     },
     "metadata": {},
     "output_type": "display_data"
    }
   ],
   "source": [
    "plt.plot(grid_results.cv_results_['mean_train_score'] - grid_results.cv_results_['mean_test_score'])"
   ]
  },
  {
   "cell_type": "code",
   "execution_count": 91,
   "id": "c0b0f88b",
   "metadata": {},
   "outputs": [
    {
     "data": {
      "text/plain": [
       "{'C': array([1.0000e-05, 5.0010e-02, 1.0001e-01, 1.5001e-01, 2.0001e-01,\n",
       "        2.5001e-01, 3.0001e-01, 3.5001e-01, 4.0001e-01, 4.5001e-01,\n",
       "        5.0001e-01, 5.5001e-01, 6.0001e-01, 6.5001e-01, 7.0001e-01,\n",
       "        7.5001e-01, 8.0001e-01, 8.5001e-01, 9.0001e-01, 9.5001e-01])}"
      ]
     },
     "execution_count": 91,
     "metadata": {},
     "output_type": "execute_result"
    }
   ],
   "source": [
    "grid_results.param_grid"
   ]
  },
  {
   "cell_type": "code",
   "execution_count": 92,
   "id": "d70a0c25",
   "metadata": {},
   "outputs": [
    {
     "data": {
      "text/plain": [
       "0.15001000000000003"
      ]
     },
     "execution_count": 92,
     "metadata": {},
     "output_type": "execute_result"
    }
   ],
   "source": [
    "grid_results.param_grid['C'][3]"
   ]
  },
  {
   "cell_type": "code",
   "execution_count": 93,
   "id": "4b1898b1",
   "metadata": {},
   "outputs": [
    {
     "data": {
      "text/plain": [
       "array([-1.11022302e-16,  5.05050505e-03,  6.59722222e-03,  8.58585859e-03,\n",
       "        1.17424242e-02,  1.32891414e-02,  1.63194444e-02,  1.93813131e-02,\n",
       "        2.21906566e-02,  2.31376263e-02,  2.44318182e-02,  2.68308081e-02,\n",
       "        2.86931818e-02,  2.99242424e-02,  3.19128788e-02,  3.43118687e-02,\n",
       "        3.65530303e-02,  3.91729798e-02,  4.04040404e-02,  4.25505051e-02])"
      ]
     },
     "execution_count": 93,
     "metadata": {},
     "output_type": "execute_result"
    }
   ],
   "source": [
    "grid_results.cv_results_['mean_train_score'] - grid_results.cv_results_['mean_test_score']"
   ]
  },
  {
   "cell_type": "code",
   "execution_count": 94,
   "id": "683ca4f1",
   "metadata": {},
   "outputs": [
    {
     "name": "stdout",
     "output_type": "stream",
     "text": [
      "88.28 0.93\n"
     ]
    }
   ],
   "source": [
    "# Create a pipeline & cross-validate\n",
    "from sklearn.pipeline import make_pipeline, Pipeline\n",
    "\n",
    "X = data['cleaned_tweets_w/o_SW']\n",
    "y = data['label']\n",
    "\n",
    "CV = CountVectorizer()\n",
    "LR1 = LogisticRegression(class_weight='balanced', solver='liblinear', penalty='l1', C=0.4)\n",
    "\n",
    "CV_pipe = Pipeline([('CV', CV) , ('LR', LR1)] )\n",
    "\n",
    "results = cross_val_score(CV_pipe, X, y, cv=kfold, scoring='accuracy')\n",
    "print(np.round((results.mean())*100, 2), np.round((results.std())*100, 2)) "
   ]
  },
  {
   "cell_type": "code",
   "execution_count": 95,
   "id": "ba6c19bb",
   "metadata": {},
   "outputs": [
    {
     "data": {
      "text/plain": [
       "{'CV': CountVectorizer(),\n",
       " 'LR': LogisticRegression(C=0.4, class_weight='balanced', penalty='l1',\n",
       "                    solver='liblinear')}"
      ]
     },
     "execution_count": 95,
     "metadata": {},
     "output_type": "execute_result"
    }
   ],
   "source": [
    "CV_pipe.named_steps"
   ]
  },
  {
   "cell_type": "code",
   "execution_count": 96,
   "id": "6820a163",
   "metadata": {},
   "outputs": [
    {
     "data": {
      "text/html": [
       "<style>#sk-container-id-2 {color: black;}#sk-container-id-2 pre{padding: 0;}#sk-container-id-2 div.sk-toggleable {background-color: white;}#sk-container-id-2 label.sk-toggleable__label {cursor: pointer;display: block;width: 100%;margin-bottom: 0;padding: 0.3em;box-sizing: border-box;text-align: center;}#sk-container-id-2 label.sk-toggleable__label-arrow:before {content: \"▸\";float: left;margin-right: 0.25em;color: #696969;}#sk-container-id-2 label.sk-toggleable__label-arrow:hover:before {color: black;}#sk-container-id-2 div.sk-estimator:hover label.sk-toggleable__label-arrow:before {color: black;}#sk-container-id-2 div.sk-toggleable__content {max-height: 0;max-width: 0;overflow: hidden;text-align: left;background-color: #f0f8ff;}#sk-container-id-2 div.sk-toggleable__content pre {margin: 0.2em;color: black;border-radius: 0.25em;background-color: #f0f8ff;}#sk-container-id-2 input.sk-toggleable__control:checked~div.sk-toggleable__content {max-height: 200px;max-width: 100%;overflow: auto;}#sk-container-id-2 input.sk-toggleable__control:checked~label.sk-toggleable__label-arrow:before {content: \"▾\";}#sk-container-id-2 div.sk-estimator input.sk-toggleable__control:checked~label.sk-toggleable__label {background-color: #d4ebff;}#sk-container-id-2 div.sk-label input.sk-toggleable__control:checked~label.sk-toggleable__label {background-color: #d4ebff;}#sk-container-id-2 input.sk-hidden--visually {border: 0;clip: rect(1px 1px 1px 1px);clip: rect(1px, 1px, 1px, 1px);height: 1px;margin: -1px;overflow: hidden;padding: 0;position: absolute;width: 1px;}#sk-container-id-2 div.sk-estimator {font-family: monospace;background-color: #f0f8ff;border: 1px dotted black;border-radius: 0.25em;box-sizing: border-box;margin-bottom: 0.5em;}#sk-container-id-2 div.sk-estimator:hover {background-color: #d4ebff;}#sk-container-id-2 div.sk-parallel-item::after {content: \"\";width: 100%;border-bottom: 1px solid gray;flex-grow: 1;}#sk-container-id-2 div.sk-label:hover label.sk-toggleable__label {background-color: #d4ebff;}#sk-container-id-2 div.sk-serial::before {content: \"\";position: absolute;border-left: 1px solid gray;box-sizing: border-box;top: 0;bottom: 0;left: 50%;z-index: 0;}#sk-container-id-2 div.sk-serial {display: flex;flex-direction: column;align-items: center;background-color: white;padding-right: 0.2em;padding-left: 0.2em;position: relative;}#sk-container-id-2 div.sk-item {position: relative;z-index: 1;}#sk-container-id-2 div.sk-parallel {display: flex;align-items: stretch;justify-content: center;background-color: white;position: relative;}#sk-container-id-2 div.sk-item::before, #sk-container-id-2 div.sk-parallel-item::before {content: \"\";position: absolute;border-left: 1px solid gray;box-sizing: border-box;top: 0;bottom: 0;left: 50%;z-index: -1;}#sk-container-id-2 div.sk-parallel-item {display: flex;flex-direction: column;z-index: 1;position: relative;background-color: white;}#sk-container-id-2 div.sk-parallel-item:first-child::after {align-self: flex-end;width: 50%;}#sk-container-id-2 div.sk-parallel-item:last-child::after {align-self: flex-start;width: 50%;}#sk-container-id-2 div.sk-parallel-item:only-child::after {width: 0;}#sk-container-id-2 div.sk-dashed-wrapped {border: 1px dashed gray;margin: 0 0.4em 0.5em 0.4em;box-sizing: border-box;padding-bottom: 0.4em;background-color: white;}#sk-container-id-2 div.sk-label label {font-family: monospace;font-weight: bold;display: inline-block;line-height: 1.2em;}#sk-container-id-2 div.sk-label-container {text-align: center;}#sk-container-id-2 div.sk-container {/* jupyter's `normalize.less` sets `[hidden] { display: none; }` but bootstrap.min.css set `[hidden] { display: none !important; }` so we also need the `!important` here to be able to override the default hidden behavior on the sphinx rendered scikit-learn.org. See: https://github.com/scikit-learn/scikit-learn/issues/21755 */display: inline-block !important;position: relative;}#sk-container-id-2 div.sk-text-repr-fallback {display: none;}</style><div id=\"sk-container-id-2\" class=\"sk-top-container\"><div class=\"sk-text-repr-fallback\"><pre>Pipeline(steps=[(&#x27;CV&#x27;, CountVectorizer()),\n",
       "                (&#x27;LR&#x27;,\n",
       "                 LogisticRegression(C=0.4, class_weight=&#x27;balanced&#x27;,\n",
       "                                    penalty=&#x27;l1&#x27;, solver=&#x27;liblinear&#x27;))])</pre><b>In a Jupyter environment, please rerun this cell to show the HTML representation or trust the notebook. <br />On GitHub, the HTML representation is unable to render, please try loading this page with nbviewer.org.</b></div><div class=\"sk-container\" hidden><div class=\"sk-item sk-dashed-wrapped\"><div class=\"sk-label-container\"><div class=\"sk-label sk-toggleable\"><input class=\"sk-toggleable__control sk-hidden--visually\" id=\"sk-estimator-id-4\" type=\"checkbox\" ><label for=\"sk-estimator-id-4\" class=\"sk-toggleable__label sk-toggleable__label-arrow\">Pipeline</label><div class=\"sk-toggleable__content\"><pre>Pipeline(steps=[(&#x27;CV&#x27;, CountVectorizer()),\n",
       "                (&#x27;LR&#x27;,\n",
       "                 LogisticRegression(C=0.4, class_weight=&#x27;balanced&#x27;,\n",
       "                                    penalty=&#x27;l1&#x27;, solver=&#x27;liblinear&#x27;))])</pre></div></div></div><div class=\"sk-serial\"><div class=\"sk-item\"><div class=\"sk-estimator sk-toggleable\"><input class=\"sk-toggleable__control sk-hidden--visually\" id=\"sk-estimator-id-5\" type=\"checkbox\" ><label for=\"sk-estimator-id-5\" class=\"sk-toggleable__label sk-toggleable__label-arrow\">CountVectorizer</label><div class=\"sk-toggleable__content\"><pre>CountVectorizer()</pre></div></div></div><div class=\"sk-item\"><div class=\"sk-estimator sk-toggleable\"><input class=\"sk-toggleable__control sk-hidden--visually\" id=\"sk-estimator-id-6\" type=\"checkbox\" ><label for=\"sk-estimator-id-6\" class=\"sk-toggleable__label sk-toggleable__label-arrow\">LogisticRegression</label><div class=\"sk-toggleable__content\"><pre>LogisticRegression(C=0.4, class_weight=&#x27;balanced&#x27;, penalty=&#x27;l1&#x27;,\n",
       "                   solver=&#x27;liblinear&#x27;)</pre></div></div></div></div></div></div></div>"
      ],
      "text/plain": [
       "Pipeline(steps=[('CV', CountVectorizer()),\n",
       "                ('LR',\n",
       "                 LogisticRegression(C=0.4, class_weight='balanced',\n",
       "                                    penalty='l1', solver='liblinear'))])"
      ]
     },
     "execution_count": 96,
     "metadata": {},
     "output_type": "execute_result"
    }
   ],
   "source": [
    "CV_pipe.fit(X,y)"
   ]
  },
  {
   "cell_type": "code",
   "execution_count": 97,
   "id": "17a39f4e",
   "metadata": {},
   "outputs": [
    {
     "data": {
      "text/plain": [
       "15955"
      ]
     },
     "execution_count": 97,
     "metadata": {},
     "output_type": "execute_result"
    }
   ],
   "source": [
    "len(CV_pipe['CV'].vocabulary_)  # CV with stopwords applied already & word_len > 2"
   ]
  },
  {
   "cell_type": "code",
   "execution_count": 98,
   "id": "b498e1e8",
   "metadata": {},
   "outputs": [],
   "source": [
    "# print(CV_pipe['CV'].vocabulary_)"
   ]
  },
  {
   "cell_type": "markdown",
   "id": "3cb2eae1",
   "metadata": {},
   "source": [
    "# 6. LR Model without vs with stop_words ??"
   ]
  },
  {
   "cell_type": "code",
   "execution_count": 99,
   "id": "12a440e2",
   "metadata": {},
   "outputs": [
    {
     "name": "stdout",
     "output_type": "stream",
     "text": [
      "86.87 1.07\n"
     ]
    },
    {
     "data": {
      "text/plain": [
       "15673"
      ]
     },
     "execution_count": 99,
     "metadata": {},
     "output_type": "execute_result"
    }
   ],
   "source": [
    "# Create a pipeline & cross-validate\n",
    "from sklearn.pipeline import make_pipeline, Pipeline\n",
    "\n",
    "X = data['cleaned_tweets_w/o_SW']\n",
    "y = data['label']\n",
    "\n",
    "CV = CountVectorizer(stop_words=final_stopwords)\n",
    "LR1 = LogisticRegression(class_weight='balanced', solver='liblinear', penalty='l1', C=0.4)\n",
    "\n",
    "CV_pipe = Pipeline([('CV', CV) , ('LR', LR1)] )\n",
    "\n",
    "results = cross_val_score(CV_pipe, X, y, cv=kfold, scoring='accuracy')\n",
    "print(np.round((results.mean())*100, 2), np.round((results.std())*100, 2)) \n",
    "\n",
    "CV_pipe.fit(X,y)\n",
    "len(CV_pipe['CV'].vocabulary_) "
   ]
  },
  {
   "cell_type": "code",
   "execution_count": null,
   "id": "783a68f8",
   "metadata": {},
   "outputs": [],
   "source": []
  },
  {
   "cell_type": "code",
   "execution_count": 100,
   "id": "7f3c229f",
   "metadata": {},
   "outputs": [
    {
     "name": "stdout",
     "output_type": "stream",
     "text": [
      "86.77 1.03\n"
     ]
    },
    {
     "data": {
      "text/plain": [
       "1086"
      ]
     },
     "execution_count": 100,
     "metadata": {},
     "output_type": "execute_result"
    }
   ],
   "source": [
    "# Create a pipeline & cross-validate\n",
    "from sklearn.pipeline import make_pipeline, Pipeline\n",
    "\n",
    "X = data['cleaned_tweets_w/o_SW']\n",
    "y = data['label']\n",
    "\n",
    "CV = CountVectorizer(stop_words=final_stopwords, min_df=10, max_features=None)\n",
    "LR1 = LogisticRegression(class_weight='balanced', solver='liblinear', penalty='l1', C=0.4)\n",
    "\n",
    "CV_pipe = Pipeline([('CV', CV) , ('LR', LR1)] )\n",
    "\n",
    "results = cross_val_score(CV_pipe, X, y, cv=kfold, scoring='accuracy')\n",
    "print(np.round((results.mean())*100, 2), np.round((results.std())*100, 2)) \n",
    "\n",
    "CV_pipe.fit(X,y)\n",
    "len(CV_pipe['CV'].vocabulary_) "
   ]
  },
  {
   "cell_type": "code",
   "execution_count": null,
   "id": "a3de4b3b",
   "metadata": {},
   "outputs": [],
   "source": []
  },
  {
   "cell_type": "code",
   "execution_count": 101,
   "id": "d2100b72",
   "metadata": {},
   "outputs": [
    {
     "name": "stdout",
     "output_type": "stream",
     "text": [
      "85.24 1.3\n"
     ]
    },
    {
     "data": {
      "text/plain": [
       "300"
      ]
     },
     "execution_count": 101,
     "metadata": {},
     "output_type": "execute_result"
    }
   ],
   "source": [
    "# Create a pipeline & cross-validate\n",
    "from sklearn.pipeline import make_pipeline, Pipeline\n",
    "\n",
    "X = data['cleaned_tweets_w/o_SW']\n",
    "y = data['label']\n",
    "\n",
    "CV = CountVectorizer(stop_words=final_stopwords, min_df=10, max_features=300)\n",
    "LR1 = LogisticRegression(class_weight='balanced', solver='liblinear', penalty='l1', C=0.4)\n",
    "\n",
    "CV_pipe = Pipeline([('CV', CV) , ('LR', LR1)] )\n",
    "\n",
    "results = cross_val_score(CV_pipe, X, y, cv=kfold, scoring='accuracy')\n",
    "print(np.round((results.mean())*100, 2), np.round((results.std())*100, 2)) \n",
    "\n",
    "CV_pipe.fit(X,y)\n",
    "len(CV_pipe['CV'].vocabulary_) "
   ]
  },
  {
   "cell_type": "code",
   "execution_count": null,
   "id": "ea6ec811",
   "metadata": {},
   "outputs": [],
   "source": []
  },
  {
   "cell_type": "markdown",
   "id": "83a79b75",
   "metadata": {},
   "source": [
    "# 7. TF-IDF Vector BoW Model + Logistic Regression"
   ]
  },
  {
   "cell_type": "code",
   "execution_count": 102,
   "id": "f152b1bc",
   "metadata": {},
   "outputs": [],
   "source": [
    "doc1 = 'I love cooking'\n",
    "doc2 = 'Today I cooked pasta today'"
   ]
  },
  {
   "cell_type": "code",
   "execution_count": null,
   "id": "09630f86",
   "metadata": {},
   "outputs": [],
   "source": []
  },
  {
   "cell_type": "code",
   "execution_count": null,
   "id": "9656e8e8",
   "metadata": {},
   "outputs": [],
   "source": []
  },
  {
   "cell_type": "code",
   "execution_count": 103,
   "id": "e026f9e6",
   "metadata": {},
   "outputs": [
    {
     "name": "stdout",
     "output_type": "stream",
     "text": [
      "86.82 0.14\n",
      "85.24 0.84\n"
     ]
    },
    {
     "data": {
      "text/plain": [
       "1000"
      ]
     },
     "execution_count": 103,
     "metadata": {},
     "output_type": "execute_result"
    }
   ],
   "source": [
    "from sklearn.feature_extraction.text import TfidfVectorizer\n",
    "X = data['cleaned_tweets_w/o_SW']\n",
    "y = data['label']\n",
    "\n",
    "# we want to include only those words in the vocab which have min df of 5,\n",
    "# means select only those words which occur ATLEAST in 5 documents!! \n",
    "# AND SELECT the TOP 1000 FEATURES ONLY to build the model\n",
    "TFIDF = TfidfVectorizer(stop_words=final_stopwords,  min_df=5, max_features=1000)\n",
    "\n",
    "LR1 = LogisticRegression(class_weight='balanced', solver='liblinear', penalty='l1', C=0.4)\n",
    "CV_pipe = Pipeline([('TFIDF', TFIDF) , ('LR', LR1)] )\n",
    "results = cross_validate(CV_pipe, X, y, cv=kfold, scoring='accuracy', return_train_score=True)\n",
    "\n",
    "# print(results['train_score'])\n",
    "print(np.round((results['train_score'].mean())*100, 2), np.round((results['train_score'].std())*100, 2)) \n",
    "\n",
    "# print(results['test_score'])\n",
    "print(np.round((results['test_score'].mean())*100, 2), np.round((results['test_score'].std())*100, 2)) \n",
    "\n",
    "TFIDF.fit_transform(X)\n",
    "len(TFIDF.vocabulary_)  # no. of features AFTER applying the stopwords"
   ]
  },
  {
   "cell_type": "code",
   "execution_count": null,
   "id": "83a4cdff",
   "metadata": {},
   "outputs": [],
   "source": []
  },
  {
   "cell_type": "markdown",
   "id": "398eb47b",
   "metadata": {},
   "source": [
    "# 8. Dimesionality Reduction"
   ]
  },
  {
   "cell_type": "code",
   "execution_count": null,
   "id": "597c7c15",
   "metadata": {},
   "outputs": [],
   "source": []
  },
  {
   "cell_type": "code",
   "execution_count": 104,
   "id": "bca8ddcd",
   "metadata": {},
   "outputs": [
    {
     "name": "stdout",
     "output_type": "stream",
     "text": [
      "87.42 0.25\n",
      "86.57 0.83\n"
     ]
    },
    {
     "data": {
      "text/plain": [
       "15955"
      ]
     },
     "execution_count": 104,
     "metadata": {},
     "output_type": "execute_result"
    }
   ],
   "source": [
    "from sklearn.decomposition import TruncatedSVD\n",
    "\n",
    "X = data['cleaned_tweets_w/o_SW']\n",
    "y = data['label']\n",
    "\n",
    "TFIDF = TfidfVectorizer()  # will originally have 15955 features\n",
    "SVD = TruncatedSVD(n_components=1000)  # reduce it to 1000 PCs\n",
    "\n",
    "LR1 = LogisticRegression(class_weight='balanced', solver='liblinear', penalty='l1', C=0.4)\n",
    "CV_pipe = Pipeline([('TFIDF', TFIDF), ('SVD', SVD), ('LR', LR1)] )\n",
    "results = cross_validate(CV_pipe, X, y, cv=kfold, scoring='accuracy', return_train_score=True)\n",
    "\n",
    "# print(results['train_score'])\n",
    "print(np.round((results['train_score'].mean())*100, 2), np.round((results['train_score'].std())*100, 2)) \n",
    "\n",
    "# print(results['test_score'])\n",
    "print(np.round((results['test_score'].mean())*100, 2), np.round((results['test_score'].std())*100, 2)) \n",
    "\n",
    "TFIDF.fit_transform(X)\n",
    "len(TFIDF.vocabulary_)  "
   ]
  },
  {
   "cell_type": "code",
   "execution_count": null,
   "id": "9f6725d9",
   "metadata": {},
   "outputs": [],
   "source": []
  },
  {
   "cell_type": "code",
   "execution_count": 105,
   "id": "007da074",
   "metadata": {},
   "outputs": [
    {
     "data": {
      "text/plain": [
       "{'TFIDF': TfidfVectorizer(),\n",
       " 'SVD': TruncatedSVD(n_components=1000),\n",
       " 'LR': LogisticRegression(C=0.4, class_weight='balanced', penalty='l1',\n",
       "                    solver='liblinear')}"
      ]
     },
     "execution_count": 105,
     "metadata": {},
     "output_type": "execute_result"
    }
   ],
   "source": [
    "CV_pipe.named_steps"
   ]
  },
  {
   "cell_type": "code",
   "execution_count": null,
   "id": "3eb3c8fb",
   "metadata": {},
   "outputs": [],
   "source": []
  },
  {
   "cell_type": "code",
   "execution_count": null,
   "id": "7b7d5b22",
   "metadata": {},
   "outputs": [],
   "source": []
  },
  {
   "cell_type": "code",
   "execution_count": null,
   "id": "bf2c3221",
   "metadata": {},
   "outputs": [],
   "source": []
  },
  {
   "cell_type": "markdown",
   "id": "251e95fc",
   "metadata": {},
   "source": [
    "# 9. N-Gram Models"
   ]
  },
  {
   "cell_type": "code",
   "execution_count": 106,
   "id": "0f043d71",
   "metadata": {},
   "outputs": [
    {
     "name": "stdout",
     "output_type": "stream",
     "text": [
      "88.89 0.21\n",
      "86.84 0.68\n"
     ]
    },
    {
     "data": {
      "text/plain": [
       "3322"
      ]
     },
     "execution_count": 106,
     "metadata": {},
     "output_type": "execute_result"
    }
   ],
   "source": [
    "# Unigrams + Bigrams\n",
    "X = data['cleaned_tweets_w/o_SW']\n",
    "y = data['label']\n",
    "\n",
    "# we want to include only those words in the vocab which have min df of 5,\n",
    "# means select only those words which occur ATLEAST in 5 documents!! \n",
    "# AND SELECT the TOP 1000 FEATURES ONLY to build the model\n",
    "CV = CountVectorizer(stop_words=final_stopwords,  ngram_range=(1, 2), min_df=5)\n",
    "\n",
    "LR1 = LogisticRegression(class_weight='balanced', solver='liblinear', penalty='l1', C=0.4)\n",
    "CV_pipe = Pipeline([('CV', CV) , ('LR', LR1)] )\n",
    "results = cross_validate(CV_pipe, X, y, cv=kfold, scoring='accuracy', return_train_score=True)\n",
    "\n",
    "# print(results['train_score'])\n",
    "print(np.round((results['train_score'].mean())*100, 2), np.round((results['train_score'].std())*100, 2)) \n",
    "\n",
    "# print(results['test_score'])\n",
    "print(np.round((results['test_score'].mean())*100, 2), np.round((results['test_score'].std())*100, 2)) \n",
    "\n",
    "CV.fit_transform(X)\n",
    "len(CV.vocabulary_)  # no. of features AFTER applying the stopwords"
   ]
  },
  {
   "cell_type": "code",
   "execution_count": 107,
   "id": "3a547e56",
   "metadata": {},
   "outputs": [
    {
     "data": {
      "text/plain": [
       "{'fingerprint': 903,\n",
       " 'test': 2950,\n",
       " 'android': 64,\n",
       " 'apps': 175,\n",
       " 'beautiful': 252,\n",
       " 'cute': 624,\n",
       " 'health': 1241,\n",
       " 'igers': 1332,\n",
       " 'iphoneonly': 1561,\n",
       " 'iphonesia': 1570,\n",
       " 'iphone': 1461,\n",
       " 'android apps': 66,\n",
       " 'apps beautiful': 176,\n",
       " 'beautiful cute': 254,\n",
       " 'igers iphoneonly': 1335,\n",
       " 'iphoneonly iphonesia': 1566,\n",
       " 'iphonesia iphone': 1573,\n",
       " 'finally': 894,\n",
       " 'case': 430,\n",
       " 'thanks': 2974,\n",
       " 'yay': 3284,\n",
       " 'sony': 2716,\n",
       " 'xperia': 3277,\n",
       " 'sony xperia': 2737,\n",
       " 'love': 1789,\n",
       " 'talk': 2917,\n",
       " 'relax': 2416,\n",
       " 'smartphone': 2677,\n",
       " 'wifi': 3221,\n",
       " 'connect': 557,\n",
       " 'iphone smartphone': 1537,\n",
       " 'wired': 3234,\n",
       " 'know': 1656,\n",
       " 'wa': 3172,\n",
       " 'way': 3198,\n",
       " 'home': 1279,\n",
       " 'iphone cute': 1479,\n",
       " 'amazing': 54,\n",
       " 'service': 2587,\n",
       " 'apple': 95,\n",
       " 'question': 2367,\n",
       " 'pay': 2164,\n",
       " 'stupid': 2847,\n",
       " 'support': 2880,\n",
       " 'service apple': 2588,\n",
       " 'software': 2706,\n",
       " 'update': 3102,\n",
       " 'fucked': 1001,\n",
       " 'big': 288,\n",
       " 'time': 2997,\n",
       " 'iphones': 1569,\n",
       " 'software update': 2707,\n",
       " 'big time': 289,\n",
       " 'happy': 1202,\n",
       " 'instapic': 1426,\n",
       " 'instadaily': 1376,\n",
       " 'xperiaz': 3279,\n",
       " 'new': 2004,\n",
       " 'type': 3081,\n",
       " 'charger': 465,\n",
       " 'cable': 396,\n",
       " 'uk': 3086,\n",
       " 'amazon': 58,\n",
       " 'year': 3290,\n",
       " 'cross': 612,\n",
       " 'young': 3303,\n",
       " 'newyear': 2059,\n",
       " 'starting': 2803,\n",
       " 'recipe': 2397,\n",
       " 'technology': 2944,\n",
       " 'samsunggalaxys': 2534,\n",
       " 'iphonex': 1576,\n",
       " 'pic': 2227,\n",
       " 'charger cable': 467,\n",
       " 'new year': 2046,\n",
       " 'iphonex pic': 1579,\n",
       " 'bout': 343,\n",
       " 'shopping': 2616,\n",
       " 'listening': 1746,\n",
       " 'music': 1965,\n",
       " 'likeforlike': 1738,\n",
       " 'followforfollow': 933,\n",
       " 'music iphone': 1968,\n",
       " 'photo': 2184,\n",
       " 'fun': 1011,\n",
       " 'selfie': 2573,\n",
       " 'pool': 2285,\n",
       " 'water': 3195,\n",
       " 'camera': 407,\n",
       " 'picoftheday': 2233,\n",
       " 'sun': 2866,\n",
       " 'instagood': 1384,\n",
       " 'boy': 348,\n",
       " 'sony camera': 2717,\n",
       " 'hey': 1258,\n",
       " 'make': 1835,\n",
       " 'ipod': 1581,\n",
       " 'color': 528,\n",
       " 'inch': 1355,\n",
       " 'crash': 600,\n",
       " 'fuckin': 1003,\n",
       " 'hey apple': 1259,\n",
       " 'apple make': 142,\n",
       " 'new ipod': 2028,\n",
       " 'ha': 1181,\n",
       " 'doe': 722,\n",
       " 'need': 1997,\n",
       " 'really': 2390,\n",
       " 'dropped': 757,\n",
       " 'ball': 234,\n",
       " 'design': 691,\n",
       " 'giving': 1107,\n",
       " 'simply': 2640,\n",
       " 'new android': 2005,\n",
       " 'crazy': 603,\n",
       " 'purchase': 2356,\n",
       " 'lol': 1765,\n",
       " 'work': 3247,\n",
       " 'hard': 1210,\n",
       " 'play': 2264,\n",
       " 'ipad': 1444,\n",
       " 'work hard': 3249,\n",
       " 'ipad apple': 1446,\n",
       " 'battery': 242,\n",
       " 'charge': 463,\n",
       " 'dead': 665,\n",
       " 'downtown': 744,\n",
       " 'saturday': 2541,\n",
       " 'rx': 2485,\n",
       " 'summer': 2864,\n",
       " 'urban': 3116,\n",
       " 'like': 1725,\n",
       " 'share': 2599,\n",
       " 'want': 3181,\n",
       " 'like share': 1735,\n",
       " 'share want': 2600,\n",
       " 'case iphone': 434,\n",
       " 'iphone iphone': 1506,\n",
       " 'iphone pic': 1527,\n",
       " 'instagram': 1394,\n",
       " 'photooftheday': 2214,\n",
       " 'tweegram': 3069,\n",
       " 'iphone instagood': 1500,\n",
       " 'instagood instagram': 1387,\n",
       " 'instagram photooftheday': 1402,\n",
       " 'photooftheday tweegram': 2220,\n",
       " 'reason': 2393,\n",
       " 'suck': 2859,\n",
       " 'truth': 3057,\n",
       " 'agree': 39,\n",
       " 'fact': 841,\n",
       " 'reason iphone': 2394,\n",
       " 'iphone suck': 1545,\n",
       " 'suck apple': 2860,\n",
       " 'store': 2825,\n",
       " 'screen': 2555,\n",
       " 'monday': 1933,\n",
       " 'fucking': 1004,\n",
       " 'apple store': 155,\n",
       " 'fucking apple': 1005,\n",
       " 'art': 190,\n",
       " 'easter': 779,\n",
       " 'dear': 668,\n",
       " 'friend': 985,\n",
       " 'face': 837,\n",
       " 'bunny': 381,\n",
       " 'email': 798,\n",
       " 'excuse': 825,\n",
       " 'pie': 2243,\n",
       " 'wife': 3219,\n",
       " 'apple pie': 149,\n",
       " 'day': 656,\n",
       " 'button': 385,\n",
       " 'broke': 367,\n",
       " 'hit': 1271,\n",
       " 'button broke': 386,\n",
       " 'completely': 548,\n",
       " 'black': 304,\n",
       " 'getting': 1086,\n",
       " 'text': 2951,\n",
       " 'check': 477,\n",
       " 'iphone screen': 1535,\n",
       " 'wallpaper': 3179,\n",
       " 'wall': 3178,\n",
       " 'galaxy': 1035,\n",
       " 'samsung': 2502,\n",
       " 'app': 88,\n",
       " 'time new': 3001,\n",
       " 'galaxy samsung': 1045,\n",
       " 'patent': 2161,\n",
       " 'million': 1898,\n",
       " 'thanks apple': 2975,\n",
       " 'apple apple': 98,\n",
       " 'messed': 1883,\n",
       " 'touch': 3031,\n",
       " 'frozen': 992,\n",
       " 'logo': 1764,\n",
       " 'start': 2800,\n",
       " 'lose': 1782,\n",
       " 'kill': 1647,\n",
       " 'hateapple': 1225,\n",
       " 'ipod touch': 1584,\n",
       " 'flower': 919,\n",
       " 'green': 1167,\n",
       " 'diamond': 702,\n",
       " 'love new': 1794,\n",
       " 'new case': 2012,\n",
       " 'new iphone': 2026,\n",
       " 'iphone case': 1474,\n",
       " 'watch': 3192,\n",
       " 'youtube': 3305,\n",
       " 'subscribe': 2856,\n",
       " 'daily': 638,\n",
       " 'vlog': 3159,\n",
       " 'twitch': 3077,\n",
       " 'gaming': 1063,\n",
       " 'xbox': 3271,\n",
       " 'game': 1050,\n",
       " 'io': 1434,\n",
       " 'youtube subscribe': 3306,\n",
       " 'subscribe daily': 2857,\n",
       " 'twitch gaming': 3079,\n",
       " 'gaming fun': 1064,\n",
       " 'fun xbox': 1020,\n",
       " 'xbox sony': 3272,\n",
       " 'sony game': 2719,\n",
       " 'io android': 1435,\n",
       " 'thank': 2967,\n",
       " 'live': 1750,\n",
       " 'laugh': 1678,\n",
       " 'life': 1706,\n",
       " 'food': 944,\n",
       " 'instago': 1382,\n",
       " 'instahub': 1408,\n",
       " 'thank samsung': 2971,\n",
       " 'samsung live': 2516,\n",
       " 'live laugh': 1753,\n",
       " 'laugh life': 1679,\n",
       " 'instago instahub': 1383,\n",
       " 'ch': 456,\n",
       " 'friendship': 991,\n",
       " 'dog': 728,\n",
       " 'family': 851,\n",
       " 'goal': 1113,\n",
       " 'bestfriends': 276,\n",
       " 'pitbull': 2254,\n",
       " 'country': 585,\n",
       " 'america': 61,\n",
       " 'wild': 3224,\n",
       " 'mimmo': 1899,\n",
       " 'al': 45,\n",
       " 'taken': 2913,\n",
       " 'sunset': 2872,\n",
       " 'sky': 2659,\n",
       " 'instapic mimmo': 1428,\n",
       " 'mimmo al': 1900,\n",
       " 'taken sony': 2915,\n",
       " 'sony rx': 2729,\n",
       " 'sky beautiful': 2660,\n",
       " 'beautiful fun': 256,\n",
       " 'fun pic': 1017,\n",
       " 'sister': 2651,\n",
       " 'bought': 339,\n",
       " 'early': 771,\n",
       " 'gift': 1088,\n",
       " 'bought new': 340,\n",
       " 'happy samsung': 1207,\n",
       " 'received': 2396,\n",
       " 'note': 2081,\n",
       " 'samsung note': 2518,\n",
       " 'market': 1853,\n",
       " 'delete': 681,\n",
       " 'song': 2711,\n",
       " 'itunes': 1593,\n",
       " 'apple itunes': 134,\n",
       " 'everybody': 819,\n",
       " 'freaking': 968,\n",
       " 'window': 3227,\n",
       " 'bad': 232,\n",
       " 'cheap': 476,\n",
       " 'tech': 2936,\n",
       " 'tech apple': 2937,\n",
       " 'bull': 378,\n",
       " 'instasize': 1429,\n",
       " 'smile': 2685,\n",
       " 'potd': 2298,\n",
       " 'let': 1698,\n",
       " 'candid': 414,\n",
       " 'sunday': 2867,\n",
       " 'eye': 836,\n",
       " 'ootd': 2119,\n",
       " 'fashion': 860,\n",
       " 'blackandwhite': 307,\n",
       " 'mylife': 1975,\n",
       " 'film': 890,\n",
       " 'set': 2590,\n",
       " 'building': 377,\n",
       " 'video': 3146,\n",
       " 'producer': 2325,\n",
       " 'videoproduction': 3151,\n",
       " 'commercial': 540,\n",
       " 'actor': 19,\n",
       " 'actress': 20,\n",
       " 'losangeles': 1781,\n",
       " 'movie': 1959,\n",
       " 'acting': 17,\n",
       " 'startup': 2804,\n",
       " 'photooftheday beautiful': 2215,\n",
       " 'iphone apple': 1466,\n",
       " 'cupcake': 615,\n",
       " 'pink': 2248,\n",
       " 'sweet': 2893,\n",
       " 'cherry': 480,\n",
       " 'sexy': 2594,\n",
       " 'lady': 1665,\n",
       " 'iphon': 1460,\n",
       " 'live iphone': 1752,\n",
       " 'iphone iphonesia': 1511,\n",
       " 'iphonesia instagood': 1571,\n",
       " 'instagood photooftheday': 1392,\n",
       " 'week': 3206,\n",
       " 'end': 803,\n",
       " 'plus': 2275,\n",
       " 'moment': 1930,\n",
       " 'italy': 1589,\n",
       " 'iphone plus': 1530,\n",
       " 'plus apple': 2276,\n",
       " 'photography': 2202,\n",
       " 'nature': 1986,\n",
       " 'landscape': 1668,\n",
       " 'view': 3152,\n",
       " 'tree': 3047,\n",
       " 'travel': 3041,\n",
       " 'google': 1135,\n",
       " 'cut': 623,\n",
       " 'program': 2332,\n",
       " 'google apple': 1136,\n",
       " 'look': 1772,\n",
       " 'got': 1141,\n",
       " 'christmas': 492,\n",
       " 'girl': 1098,\n",
       " 'look got': 1774,\n",
       " 'instacool': 1375,\n",
       " 'photooftheday iphone': 2218,\n",
       " 'iphone instago': 1499,\n",
       " 'free': 969,\n",
       " 'iphone ipad': 1505,\n",
       " 'ipad ipod': 1452,\n",
       " 'talking': 2918,\n",
       " 'appstore': 180,\n",
       " 'iphone app': 1465,\n",
       " 'joy': 1618,\n",
       " 'peace': 2170,\n",
       " 'reflect': 2409,\n",
       " 'remember': 2419,\n",
       " 'cloud': 514,\n",
       " 'cloudhub': 516,\n",
       " 'skyhub': 2662,\n",
       " 'gr': 1152,\n",
       " 'joy peace': 1619,\n",
       " 'peace reflect': 2171,\n",
       " 'reflect remember': 2410,\n",
       " 'remember sky': 2420,\n",
       " 'sky cloud': 2661,\n",
       " 'cloud cloudhub': 515,\n",
       " 'cloudhub skyhub': 517,\n",
       " 'skyhub tree': 2663,\n",
       " 'tree gr': 3048,\n",
       " 'gr iphone': 1153,\n",
       " 'baby': 224,\n",
       " 'pet': 2178,\n",
       " 'baby boy': 226,\n",
       " 'pet iphone': 2179,\n",
       " 'letter': 1699,\n",
       " 'news': 2054,\n",
       " 'fail': 843,\n",
       " 'funny': 1022,\n",
       " 'news photography': 2057,\n",
       " 'photography fashion': 2204,\n",
       " 'fashion health': 862,\n",
       " 'health fail': 1242,\n",
       " 'fail tech': 845,\n",
       " 'tech ipad': 2939,\n",
       " 'ipad iphone': 1451,\n",
       " 'iphone funny': 1488,\n",
       " 'hated': 1226,\n",
       " 'ye': 3286,\n",
       " 'tablet': 2906,\n",
       " 'use': 3120,\n",
       " 'fan': 855,\n",
       " 'think': 2985,\n",
       " 'quite': 2368,\n",
       " 'product': 2327,\n",
       " 'friday': 983,\n",
       " 'called': 403,\n",
       " 'blackfriday': 310,\n",
       " 'shop': 2614,\n",
       " 'holiday': 1278,\n",
       " 'newyork': 2061,\n",
       " 'business': 382,\n",
       " 'money': 1934,\n",
       " 'birthday': 295,\n",
       " 'tv': 3067,\n",
       " 'computer': 552,\n",
       " 'school': 2550,\n",
       " 'black friday': 305,\n",
       " 'family friend': 853,\n",
       " 'seriously': 2585,\n",
       " 'profit': 2331,\n",
       " 'going': 1116,\n",
       " 'pocket': 2280,\n",
       " 'supported': 2882,\n",
       " 'po': 2279,\n",
       " 'month': 1939,\n",
       " 'good': 1123,\n",
       " 'job': 1613,\n",
       " 'apple charger': 105,\n",
       " 'good job': 1126,\n",
       " 'job apple': 1614,\n",
       " 'actually': 22,\n",
       " 'killing': 1649,\n",
       " 'paying': 2166,\n",
       " 'replacement': 2426,\n",
       " 'droid': 755,\n",
       " 'apple suck': 156,\n",
       " 'wait': 3173,\n",
       " 'double': 736,\n",
       " 'saw': 2545,\n",
       " 'cool': 569,\n",
       " 'picture': 2239,\n",
       " 'camera iphone': 408,\n",
       " 'iphone cool': 1477,\n",
       " 'complete': 547,\n",
       " 'run': 2482,\n",
       " 'beach': 247,\n",
       " 'sport': 2787,\n",
       " 'sport health': 2788,\n",
       " 'bit': 302,\n",
       " 'hashtag': 1217,\n",
       " 'gain': 1030,\n",
       " 'follower': 931,\n",
       " 'rts': 2475,\n",
       " 'sougofollow': 2763,\n",
       " 'ff': 880,\n",
       " 'si': 2630,\n",
       " 'gain follower': 1032,\n",
       " 'follower rts': 932,\n",
       " 'rts gain': 2476,\n",
       " 'gain iphone': 1033,\n",
       " 'iphone sougofollow': 1540,\n",
       " 'sougofollow ff': 2764,\n",
       " 'iphoneography': 1558,\n",
       " 'streetphotography': 2838,\n",
       " 'iphonephotography': 1567,\n",
       " 'mobilephotography': 1918,\n",
       " 'bright': 363,\n",
       " 'iphoneonly iphoneography': 1565,\n",
       " 'apple color': 107,\n",
       " 'user': 3125,\n",
       " 'dating': 647,\n",
       " 'iphone user': 1548,\n",
       " 'le': 1682,\n",
       " 'random': 2379,\n",
       " 'instamood': 1418,\n",
       " 'photo love': 2187,\n",
       " 'pink iphone': 2249,\n",
       " 'shine': 2602,\n",
       " 'wine': 3229,\n",
       " 'copenhagen': 574,\n",
       " 'creative': 608,\n",
       " 'composer': 550,\n",
       " 'denmark': 689,\n",
       " 'hot': 1294,\n",
       " 'iconic': 1320,\n",
       " 'keepthefaith': 1636,\n",
       " 'mariajensen': 1851,\n",
       " 'original': 2125,\n",
       " 'pop': 2287,\n",
       " 'red': 2402,\n",
       " 'rock': 2463,\n",
       " 'soul': 2765,\n",
       " 'singer': 2642,\n",
       " 'songwriter': 2714,\n",
       " 'universal': 3094,\n",
       " 'amazing beautiful': 55,\n",
       " 'beautiful copenhagen': 253,\n",
       " 'copenhagen creative': 575,\n",
       " 'creative composer': 609,\n",
       " 'composer denmark': 551,\n",
       " 'denmark fun': 690,\n",
       " 'fun hot': 1015,\n",
       " 'hot iconic': 1295,\n",
       " 'iconic keepthefaith': 1321,\n",
       " 'keepthefaith mariajensen': 1637,\n",
       " 'mariajensen music': 1852,\n",
       " 'music original': 1972,\n",
       " 'original pop': 2126,\n",
       " 'pop producer': 2288,\n",
       " 'producer red': 2326,\n",
       " 'red rock': 2403,\n",
       " 'rock soul': 2464,\n",
       " 'soul singer': 2766,\n",
       " 'singer songwriter': 2643,\n",
       " 'songwriter song': 2715,\n",
       " 'song universal': 2713,\n",
       " 'universal sony': 3095,\n",
       " 'wedding': 3203,\n",
       " 'dvd': 766,\n",
       " 'thought': 2988,\n",
       " 'lost': 1785,\n",
       " 'samsung galaxy': 2511,\n",
       " 'ipadmini': 1455,\n",
       " 'instamoment': 1416,\n",
       " 'apple ipadmini': 130,\n",
       " 'new baby': 2008,\n",
       " 'feeling': 877,\n",
       " 'broken': 368,\n",
       " 'replaced': 2425,\n",
       " 'happiness': 1201,\n",
       " 'ce': 448,\n",
       " 'light': 1723,\n",
       " 'indonesia': 1362,\n",
       " 'sonya': 2739,\n",
       " 'photooftheday instagood': 2216,\n",
       " 'sony sonya': 2732,\n",
       " 'gold': 1120,\n",
       " 'iphone gold': 1492,\n",
       " 'reset': 2430,\n",
       " 'sorry': 2760,\n",
       " 'white': 3217,\n",
       " 'tea': 2928,\n",
       " 'chilling': 485,\n",
       " 'samsung smile': 2525,\n",
       " 'clear': 506,\n",
       " 'cover': 591,\n",
       " 'samsunggalaxy': 2532,\n",
       " 'mouse': 1958,\n",
       " 'came': 405,\n",
       " 'magic': 1831,\n",
       " 'come': 533,\n",
       " 'followsunday': 938,\n",
       " 'followback': 928,\n",
       " 'teamfollowback': 2932,\n",
       " 'retweet': 2439,\n",
       " 'ya': 3282,\n",
       " 'thing': 2983,\n",
       " 'followsunday followback': 939,\n",
       " 'followback teamfollowback': 930,\n",
       " 'teamfollowback retweet': 2933,\n",
       " 'retweet iphone': 2442,\n",
       " 'iphone ya': 1553,\n",
       " 'ya thing': 3283,\n",
       " 'problem': 2323,\n",
       " 'issue': 1586,\n",
       " 'able': 0,\n",
       " 'shoot': 2610,\n",
       " 'nature pic': 1990,\n",
       " 'pic photo': 2229,\n",
       " 'price': 2312,\n",
       " 'device': 701,\n",
       " 'new apple': 2006,\n",
       " 'apple device': 111,\n",
       " 'win': 3225,\n",
       " 'memory': 1872,\n",
       " 'brother': 369,\n",
       " 'oh': 2106,\n",
       " 'comment': 539,\n",
       " 'lip': 1744,\n",
       " 'enjoying': 807,\n",
       " 'playstation': 2269,\n",
       " 'gamer': 1060,\n",
       " 'iphone instagram': 1501,\n",
       " 'wrong': 3266,\n",
       " 'right': 2454,\n",
       " 'today': 3011,\n",
       " 'item': 1591,\n",
       " 'earphone': 774,\n",
       " 'earpods': 776,\n",
       " 'lifestyle': 1722,\n",
       " 'fuckyou': 1008,\n",
       " 'bug': 376,\n",
       " 'buck': 374,\n",
       " 'little': 1749,\n",
       " 'quality': 2365,\n",
       " 'fuckyou apple': 1009,\n",
       " 'girlfriend': 1103,\n",
       " 'bf': 285,\n",
       " 'card': 426,\n",
       " 'present': 2306,\n",
       " 'mom': 1928,\n",
       " 'macbookpro': 1826,\n",
       " 'macbook': 1820,\n",
       " 'sweden': 2892,\n",
       " 'birthday present': 299,\n",
       " 'apple macbookpro': 141,\n",
       " 'quote': 2369,\n",
       " 'wisdom': 3236,\n",
       " 'word': 3245,\n",
       " 'tweetgram': 3074,\n",
       " 'photo quote': 2192,\n",
       " 'quote day': 2370,\n",
       " 'day quote': 662,\n",
       " 'quote wisdom': 2372,\n",
       " 'wisdom word': 3237,\n",
       " 'word smile': 3246,\n",
       " 'smile tweetgram': 2691,\n",
       " 'tweetgram cute': 3075,\n",
       " 'cute iphone': 629,\n",
       " 'iphone fashion': 1484,\n",
       " 'customer': 619,\n",
       " 'great': 1163,\n",
       " 'repair': 2423,\n",
       " 'hour': 1297,\n",
       " 'customer service': 621,\n",
       " 'recovery': 2400,\n",
       " 'mode': 1922,\n",
       " 'iphone update': 1547,\n",
       " 'recovery mode': 2401,\n",
       " 'yousuck': 3304,\n",
       " 'usa': 3117,\n",
       " 'company': 542,\n",
       " 'loser': 1783,\n",
       " 'working': 3255,\n",
       " 'server': 2586,\n",
       " 'dumb': 764,\n",
       " 'model': 1923,\n",
       " 'handmade': 1196,\n",
       " 'iphone sony': 1539,\n",
       " 'cd': 447,\n",
       " 'iphoneonly iphone': 1564,\n",
       " 'feature': 872,\n",
       " 'know iphone': 1658,\n",
       " 'box': 345,\n",
       " 'yey': 3297,\n",
       " 'blessed': 313,\n",
       " 'feliz': 878,\n",
       " 'coffee': 522,\n",
       " 'effect': 790,\n",
       " 'created': 606,\n",
       " 'spring': 2791,\n",
       " 'galaxynote': 1048,\n",
       " 'awsome': 221,\n",
       " 'best': 270,\n",
       " 'note samsung': 2083,\n",
       " 'special': 2779,\n",
       " 'valentine': 3132,\n",
       " 'nowplaying': 2087,\n",
       " 'daughter': 653,\n",
       " 'poem': 2281,\n",
       " 'special app': 2780,\n",
       " 'app valentine': 93,\n",
       " 'daughter poem': 654,\n",
       " 'valentine iphone': 3134,\n",
       " 'pa': 2135,\n",
       " 'car': 424,\n",
       " 'sign': 2633,\n",
       " 'photo day': 2185,\n",
       " 'lunch': 1811,\n",
       " 'park': 2151,\n",
       " 'carrot': 428,\n",
       " 'banana': 235,\n",
       " 'lovely': 1798,\n",
       " 'autumn': 214,\n",
       " 'leaf': 1683,\n",
       " 'spend': 2782,\n",
       " 'faith': 848,\n",
       " 'book': 330,\n",
       " 'love iphone': 1791,\n",
       " 'iphone photography': 1525,\n",
       " 'say': 2546,\n",
       " 'fuck': 997,\n",
       " 'took': 3024,\n",
       " 'download': 739,\n",
       " 'hate': 1219,\n",
       " 'apple want': 162,\n",
       " 'new update': 2043,\n",
       " 'took hour': 3025,\n",
       " 'hate apple': 1220,\n",
       " 'apple io': 128,\n",
       " 'taken instagram': 2914,\n",
       " 'added': 26,\n",
       " 'york': 3301,\n",
       " 'ny': 2092,\n",
       " 'education': 789,\n",
       " 'new york': 2047,\n",
       " 'iphone fun': 1487,\n",
       " 'missed': 1912,\n",
       " 'min': 1901,\n",
       " 'jump': 1624,\n",
       " 'rid': 2451,\n",
       " 'absolutely': 1,\n",
       " 'tmobile': 3010,\n",
       " 'ha come': 1182,\n",
       " 'iphone samsung': 1534,\n",
       " 'frank': 966,\n",
       " 'ocean': 2098,\n",
       " 'new news': 2036,\n",
       " 'funny lol': 1024,\n",
       " 'annoying': 81,\n",
       " 'level': 1701,\n",
       " 'buy': 387,\n",
       " 'version': 3144,\n",
       " 'important': 1352,\n",
       " 'mood': 1941,\n",
       " 'bos': 336,\n",
       " 'blog': 316,\n",
       " 'style': 2851,\n",
       " 'bestoftheday': 279,\n",
       " 'pretty': 2308,\n",
       " 'babe': 223,\n",
       " 'wednesday': 3204,\n",
       " 'blog life': 318,\n",
       " 'send': 2580,\n",
       " 'turn': 3065,\n",
       " 'imessage': 1349,\n",
       " 'sleep': 2665,\n",
       " 'popular': 2289,\n",
       " 'tweet': 3073,\n",
       " 'rabbit': 2373,\n",
       " 'hop': 1290,\n",
       " 'bounce': 342,\n",
       " 'charlie': 472,\n",
       " 'shotoniphone': 2623,\n",
       " 'photographer': 2200,\n",
       " 'chuck': 497,\n",
       " 'shotoniphone apple': 2624,\n",
       " 'apple iphone': 131,\n",
       " 'photography photographer': 2210,\n",
       " 'happy valentine': 1208,\n",
       " 'valentine day': 3133,\n",
       " 'day iphone': 659,\n",
       " 'vegan': 3141,\n",
       " 'silly': 2635,\n",
       " 'syncing': 2903,\n",
       " 'hear': 1244,\n",
       " 'second': 2564,\n",
       " 'fml': 923,\n",
       " 'candy': 416,\n",
       " 'nice': 2064,\n",
       " 'hand': 1195,\n",
       " 'gb': 1071,\n",
       " 'iphonex iphone': 1578,\n",
       " 'apple pic': 148,\n",
       " 'bar': 239,\n",
       " 'key': 1638,\n",
       " 'long': 1769,\n",
       " 'cold': 523,\n",
       " 'boot': 334,\n",
       " 'siri': 2648,\n",
       " 'nephew': 2000,\n",
       " 'shot': 2622,\n",
       " 'iphone igers': 1497,\n",
       " 'instagram instagood': 1398,\n",
       " 'instagood instadaily': 1385,\n",
       " 'literally': 1748,\n",
       " 'contact': 563,\n",
       " 'lost contact': 1786,\n",
       " 'wonder': 3242,\n",
       " 'available': 215,\n",
       " 'laptop': 1670,\n",
       " 'vaio': 3131,\n",
       " 'inlove': 1367,\n",
       " 'laptop sony': 1673,\n",
       " 'sony vaio': 2735,\n",
       " 'blackberry': 308,\n",
       " 'fruit': 993,\n",
       " 'fall': 850,\n",
       " 'worry': 3260,\n",
       " 'soon': 2754,\n",
       " 'yum': 3309,\n",
       " 'food iphone': 945,\n",
       " 'iphone iphoneonly': 1509,\n",
       " 'yosemite': 3302,\n",
       " 'hill': 1267,\n",
       " 'mac': 1815,\n",
       " 'apple update': 159,\n",
       " 'warning': 3188,\n",
       " 'display': 717,\n",
       " 'fuckyou sony': 1010,\n",
       " 'told': 3021,\n",
       " 'stop': 2820,\n",
       " 'like hour': 1728,\n",
       " 'selfie samsung': 2577,\n",
       " 'gear': 1077,\n",
       " 'vr': 3167,\n",
       " 'new samsung': 2038,\n",
       " 'past': 2158,\n",
       " 'past year': 2160,\n",
       " 'american': 62,\n",
       " 'single': 2644,\n",
       " 'paid': 2140,\n",
       " 'sup': 2875,\n",
       " 'surf': 2884,\n",
       " 'capetown': 418,\n",
       " 'xt': 3280,\n",
       " 'instagram sup': 1404,\n",
       " 'sup surf': 2876,\n",
       " 'surf fun': 2885,\n",
       " 'fun capetown': 1012,\n",
       " 'capetown funny': 419,\n",
       " 'funny sexy': 1025,\n",
       " 'sexy samsung': 2595,\n",
       " 'samsung pic': 2520,\n",
       " 'final': 892,\n",
       " 'pro': 2320,\n",
       " 'trial': 3050,\n",
       " 'doe work': 726,\n",
       " 'half': 1193,\n",
       " 'downloaded': 743,\n",
       " 'mistake': 1914,\n",
       " 'stuff': 2846,\n",
       " 'arrived': 189,\n",
       " 'excited': 823,\n",
       " 'open': 2120,\n",
       " 'android samsung': 72,\n",
       " 'short': 2621,\n",
       " 'constantly': 561,\n",
       " 'piss': 2250,\n",
       " 'need new': 1998,\n",
       " 'iphone charger': 1475,\n",
       " 'like apple': 1726,\n",
       " 'officially': 2105,\n",
       " 'keyboard': 1639,\n",
       " 'okay': 2109,\n",
       " 'challenge': 457,\n",
       " 'decision': 676,\n",
       " 'simple': 2639,\n",
       " 'golden': 1121,\n",
       " 'state': 2806,\n",
       " 'colorful': 531,\n",
       " 'like iphone': 1729,\n",
       " 'installing': 1413,\n",
       " 'th': 2961,\n",
       " 'refuse': 2411,\n",
       " 'sync': 2902,\n",
       " 'th time': 2963,\n",
       " 'time week': 3004,\n",
       " 'night': 2067,\n",
       " 'father': 867,\n",
       " 'son': 2710,\n",
       " 'life instago': 1713,\n",
       " 'instahub instamood': 1409,\n",
       " 'instamood instagood': 1422,\n",
       " 'jj': 1611,\n",
       " 'party': 2153,\n",
       " 'happy birthday': 1203,\n",
       " 'makeup': 1838,\n",
       " 'fashion makeup': 863,\n",
       " 'match': 1860,\n",
       " 'valentinesday': 3138,\n",
       " 'ad': 23,\n",
       " 'february': 873,\n",
       " 'gamers': 1062,\n",
       " 'college': 526,\n",
       " 'playstation sony': 2270,\n",
       " 'portrait': 2293,\n",
       " 'sonyalpha': 2740,\n",
       " 'mm': 1916,\n",
       " 'dof': 727,\n",
       " 'bokeh': 327,\n",
       " 'grey': 1169,\n",
       " 'sony sony': 2731,\n",
       " 'sony mm': 2723,\n",
       " 'hacker': 1184,\n",
       " 'password': 2156,\n",
       " 'hacker wifi': 1185,\n",
       " 'wifi password': 3223,\n",
       " 'password android': 2157,\n",
       " 'cute color': 626,\n",
       " 'color igers': 530,\n",
       " 'extra': 835,\n",
       " 'zoom': 3321,\n",
       " 'deleted': 682,\n",
       " 'music apple': 1966,\n",
       " 'apple fucking': 120,\n",
       " 'addiction': 29,\n",
       " 'dot': 735,\n",
       " 'prophet': 2337,\n",
       " 'husband': 1311,\n",
       " 'kindle': 1651,\n",
       " 'prophet husband': 2338,\n",
       " 'husband iphone': 1312,\n",
       " 'iphone android': 1464,\n",
       " 'android kindle': 71,\n",
       " 'kindle book': 1652,\n",
       " 'upgraded': 3112,\n",
       " 'instagramers': 1405,\n",
       " 'instalike': 1410,\n",
       " 'help': 1256,\n",
       " 'child': 483,\n",
       " 'malaysia': 1842,\n",
       " 'time day': 2999,\n",
       " 'tab': 2904,\n",
       " 'real': 2388,\n",
       " 'galaxy tab': 1046,\n",
       " 'santa': 2538,\n",
       " 'earlier': 770,\n",
       " 'hi': 1261,\n",
       " 'world': 3258,\n",
       " 'old': 2110,\n",
       " 'followme': 934,\n",
       " 'like like': 1731,\n",
       " 'gray': 1162,\n",
       " 'swag': 2890,\n",
       " 'cat': 441,\n",
       " 'edit': 785,\n",
       " 'sick': 2632,\n",
       " 'paint': 2142,\n",
       " 'cat iphone': 443,\n",
       " 'iphone new': 1522,\n",
       " 'bullshit': 379,\n",
       " 'gta': 1172,\n",
       " 'sony playstation': 2727,\n",
       " 'iwatch': 1597,\n",
       " 'perfect': 2174,\n",
       " 'instaphoto': 1425,\n",
       " 'good night': 1128,\n",
       " 'welcome': 3211,\n",
       " 'drawing': 747,\n",
       " 'sketch': 2655,\n",
       " 'throw': 2991,\n",
       " 'sm': 2671,\n",
       " 'want throw': 3184,\n",
       " 'body': 326,\n",
       " 'concert': 556,\n",
       " 'fast': 865,\n",
       " 'promise': 2334,\n",
       " 'evening': 817,\n",
       " 'round': 2473,\n",
       " 'update apple': 3103,\n",
       " 'hate itunes': 1224,\n",
       " 'apple android': 97,\n",
       " 'offer': 2101,\n",
       " 'middle': 1897,\n",
       " 'buy iphone': 389,\n",
       " 'night iphone': 2068,\n",
       " 'charger iphone': 468,\n",
       " 'used': 3122,\n",
       " 'hole': 1277,\n",
       " 'account': 16,\n",
       " 'apple product': 150,\n",
       " 'photo pic': 2191,\n",
       " 'city': 502,\n",
       " 'baby new': 228,\n",
       " 'story': 2829,\n",
       " 'destiny': 696,\n",
       " 'awesome': 219,\n",
       " 'photography iphone': 2207,\n",
       " 'accessory': 14,\n",
       " 'bag': 233,\n",
       " 'info': 1363,\n",
       " 'friendly': 990,\n",
       " 'disappointed': 711,\n",
       " 'time update': 3003,\n",
       " 'goodnight': 1132,\n",
       " 'dubai': 761,\n",
       " 'dream': 748,\n",
       " 'hope': 1291,\n",
       " 'uae': 3082,\n",
       " 'advance': 33,\n",
       " 'lucky': 1809,\n",
       " 'thank apple': 2968,\n",
       " 'deal': 666,\n",
       " 'bluray': 325,\n",
       " 'foto': 958,\n",
       " 'passion': 2154,\n",
       " 'behappy': 266,\n",
       " 'photography photo': 2209,\n",
       " 'camera sony': 411,\n",
       " 'sony pic': 2726,\n",
       " 'reading': 2386,\n",
       " 'nearly': 1996,\n",
       " 'edm': 788,\n",
       " 'amor': 63,\n",
       " 'playlist': 2268,\n",
       " 'like new': 1733,\n",
       " 'god': 1114,\n",
       " 'thank god': 2969,\n",
       " 'instagram iphonesia': 1401,\n",
       " 'nx': 2090,\n",
       " 'tha': 2964,\n",
       " 'beauty': 258,\n",
       " 'iphoneisa': 1557,\n",
       " 'foreveryoung': 953,\n",
       " 'friend beauty': 986,\n",
       " 'iphone iphoneisa': 1507,\n",
       " 'updated': 3108,\n",
       " 'galaxy note': 1044,\n",
       " 'thanks samsung': 2977,\n",
       " 'high': 1264,\n",
       " 'lightning': 1724,\n",
       " 'usb': 3118,\n",
       " 'foot': 949,\n",
       " 'geek': 1078,\n",
       " 'bot': 337,\n",
       " 'gadget': 1027,\n",
       " 'technews': 2942,\n",
       " 'power': 2299,\n",
       " 'pc': 2167,\n",
       " 'dev': 697,\n",
       " ...}"
      ]
     },
     "execution_count": 107,
     "metadata": {},
     "output_type": "execute_result"
    }
   ],
   "source": [
    "CV.vocabulary_"
   ]
  },
  {
   "cell_type": "code",
   "execution_count": 108,
   "id": "47c796bc",
   "metadata": {},
   "outputs": [
    {
     "data": {
      "text/plain": [
       "{'CV': CountVectorizer(min_df=5, ngram_range=(1, 2),\n",
       "                 stop_words=['phone', 'mobile', 'twitter', 'rt', 'com', 'follow',\n",
       "                             'anyone', 'hereupon', 'without', 'for', \"wouldn't\",\n",
       "                             'either', 'too', 'often', 'somehow', 'formerly',\n",
       "                             'thereupon', 'nowhere', 'although', 'between',\n",
       "                             'whereafter', 'about', 'call', 'fifty', 'beside',\n",
       "                             \"hasn't\", 'have', 'wherein', 'd', 'out', ...]),\n",
       " 'LR': LogisticRegression(C=0.4, class_weight='balanced', penalty='l1',\n",
       "                    solver='liblinear')}"
      ]
     },
     "execution_count": 108,
     "metadata": {},
     "output_type": "execute_result"
    }
   ],
   "source": [
    "CV_pipe.named_steps"
   ]
  },
  {
   "cell_type": "code",
   "execution_count": 109,
   "id": "d2686aec",
   "metadata": {},
   "outputs": [
    {
     "data": {
      "text/plain": [
       "'1.4.2'"
      ]
     },
     "execution_count": 109,
     "metadata": {},
     "output_type": "execute_result"
    }
   ],
   "source": [
    "import joblib\n",
    "joblib.__version__"
   ]
  },
  {
   "cell_type": "code",
   "execution_count": 110,
   "id": "7b502abf",
   "metadata": {},
   "outputs": [
    {
     "name": "stdout",
     "output_type": "stream",
     "text": [
      "Defaulting to user installation because normal site-packages is not writeableNote: you may need to restart the kernel to use updated packages.\n",
      "\n",
      "Collecting joblib==1.1.0\n",
      "  Using cached joblib-1.1.0-py2.py3-none-any.whl.metadata (5.2 kB)\n",
      "Using cached joblib-1.1.0-py2.py3-none-any.whl (306 kB)\n",
      "Installing collected packages: joblib\n",
      "  Attempting uninstall: joblib\n",
      "    Found existing installation: joblib 1.4.2\n",
      "    Uninstalling joblib-1.4.2:\n",
      "      Successfully uninstalled joblib-1.4.2\n",
      "Successfully installed joblib-1.1.0\n"
     ]
    },
    {
     "name": "stderr",
     "output_type": "stream",
     "text": [
      "DEPRECATION: Loading egg at c:\\program files\\python311\\lib\\site-packages\\vboxapi-1.0-py3.11.egg is deprecated. pip 24.3 will enforce this behaviour change. A possible replacement is to use pip for package installation.. Discussion can be found at https://github.com/pypa/pip/issues/12330\n",
      "ERROR: pip's dependency resolver does not currently take into account all the packages that are installed. This behaviour is the source of the following dependency conflicts.\n",
      "scikit-learn 1.3.2 requires joblib>=1.1.1, but you have joblib 1.1.0 which is incompatible.\n",
      "\n",
      "[notice] A new release of pip is available: 23.3.2 -> 24.2\n",
      "[notice] To update, run: python.exe -m pip install --upgrade pip\n"
     ]
    }
   ],
   "source": [
    "pip install --upgrade joblib==1.1.0"
   ]
  },
  {
   "cell_type": "code",
   "execution_count": 111,
   "id": "d8e5bd58",
   "metadata": {},
   "outputs": [
    {
     "name": "stderr",
     "output_type": "stream",
     "text": [
      "DEPRECATION: Loading egg at c:\\program files\\python311\\lib\\site-packages\\vboxapi-1.0-py3.11.egg is deprecated. pip 24.3 will enforce this behaviour change. A possible replacement is to use pip for package installation.. Discussion can be found at https://github.com/pypa/pip/issues/12330\n",
      "\n",
      "[notice] A new release of pip is available: 23.3.2 -> 24.2\n",
      "[notice] To update, run: python.exe -m pip install --upgrade pip\n"
     ]
    },
    {
     "name": "stdout",
     "output_type": "stream",
     "text": [
      "Defaulting to user installation because normal site-packages is not writeable\n",
      "Requirement already satisfied: mglearn in c:\\users\\sandeep\\appdata\\roaming\\python\\python311\\site-packages (0.2.0)\n",
      "Requirement already satisfied: numpy in c:\\users\\sandeep\\appdata\\roaming\\python\\python311\\site-packages (from mglearn) (1.24.3)\n",
      "Requirement already satisfied: matplotlib in c:\\users\\sandeep\\appdata\\roaming\\python\\python311\\site-packages (from mglearn) (3.7.1)\n",
      "Requirement already satisfied: scikit-learn in c:\\users\\sandeep\\appdata\\roaming\\python\\python311\\site-packages (from mglearn) (1.3.2)\n",
      "Requirement already satisfied: pandas in c:\\users\\sandeep\\appdata\\roaming\\python\\python311\\site-packages (from mglearn) (2.0.2)\n",
      "Requirement already satisfied: pillow in c:\\users\\sandeep\\appdata\\roaming\\python\\python311\\site-packages (from mglearn) (9.5.0)\n",
      "Requirement already satisfied: cycler in c:\\users\\sandeep\\appdata\\roaming\\python\\python311\\site-packages (from mglearn) (0.11.0)\n",
      "Requirement already satisfied: imageio in c:\\users\\sandeep\\appdata\\roaming\\python\\python311\\site-packages (from mglearn) (2.33.1)\n",
      "Requirement already satisfied: joblib in c:\\users\\sandeep\\appdata\\roaming\\python\\python311\\site-packages (from mglearn) (1.1.0)\n",
      "Requirement already satisfied: contourpy>=1.0.1 in c:\\users\\sandeep\\appdata\\roaming\\python\\python311\\site-packages (from matplotlib->mglearn) (1.0.7)\n",
      "Requirement already satisfied: fonttools>=4.22.0 in c:\\users\\sandeep\\appdata\\roaming\\python\\python311\\site-packages (from matplotlib->mglearn) (4.40.0)\n",
      "Requirement already satisfied: kiwisolver>=1.0.1 in c:\\users\\sandeep\\appdata\\roaming\\python\\python311\\site-packages (from matplotlib->mglearn) (1.4.4)\n",
      "Requirement already satisfied: packaging>=20.0 in c:\\users\\sandeep\\appdata\\roaming\\python\\python311\\site-packages (from matplotlib->mglearn) (23.1)\n",
      "Requirement already satisfied: pyparsing>=2.3.1 in c:\\users\\sandeep\\appdata\\roaming\\python\\python311\\site-packages (from matplotlib->mglearn) (3.0.9)\n",
      "Requirement already satisfied: python-dateutil>=2.7 in c:\\users\\sandeep\\appdata\\roaming\\python\\python311\\site-packages (from matplotlib->mglearn) (2.8.2)\n",
      "Requirement already satisfied: pytz>=2020.1 in c:\\users\\sandeep\\appdata\\roaming\\python\\python311\\site-packages (from pandas->mglearn) (2023.3)\n",
      "Requirement already satisfied: tzdata>=2022.1 in c:\\users\\sandeep\\appdata\\roaming\\python\\python311\\site-packages (from pandas->mglearn) (2023.3)\n",
      "Requirement already satisfied: scipy>=1.5.0 in c:\\users\\sandeep\\appdata\\roaming\\python\\python311\\site-packages (from scikit-learn->mglearn) (1.11.3)\n",
      "Collecting joblib (from mglearn)\n",
      "  Using cached joblib-1.4.2-py3-none-any.whl.metadata (5.4 kB)\n",
      "Requirement already satisfied: threadpoolctl>=2.0.0 in c:\\users\\sandeep\\appdata\\roaming\\python\\python311\\site-packages (from scikit-learn->mglearn) (3.2.0)\n",
      "Requirement already satisfied: six>=1.5 in c:\\users\\sandeep\\appdata\\roaming\\python\\python311\\site-packages (from python-dateutil>=2.7->matplotlib->mglearn) (1.16.0)\n",
      "Using cached joblib-1.4.2-py3-none-any.whl (301 kB)\n",
      "Installing collected packages: joblib\n",
      "  Attempting uninstall: joblib\n",
      "    Found existing installation: joblib 1.1.0\n",
      "    Uninstalling joblib-1.1.0:\n",
      "      Successfully uninstalled joblib-1.1.0\n",
      "Successfully installed joblib-1.4.2\n"
     ]
    }
   ],
   "source": [
    "!pip install mglearn\n",
    "import mglearn"
   ]
  },
  {
   "cell_type": "code",
   "execution_count": 112,
   "id": "56595ea9",
   "metadata": {},
   "outputs": [
    {
     "data": {
      "image/png": "[encoded data removed]",
      "text/plain": [
       "<Figure size 1500x500 with 1 Axes>"
      ]
     },
     "metadata": {},
     "output_type": "display_data"
    }
   ],
   "source": [
    "# Most important features when using unigrams, bigrams, and trigrams with tf-idf rescaling\n",
    "\n",
    "# extract feature names and coefficients for Unigram Model\n",
    "# CV = CV_pipe.named_steps['CV']\n",
    "feature_names = np.array(CV.get_feature_names_out())\n",
    "# LR = CV_pipe.named_steps['LR']\n",
    "\n",
    "\n",
    "LR1.fit(CV.fit_transform(X), y)\n",
    "coef = LR1.coef_\n",
    "mglearn.tools.visualize_coefficients(coef, feature_names, n_top_features=25)"
   ]
  },
  {
   "cell_type": "code",
   "execution_count": 113,
   "id": "8d5d7026",
   "metadata": {},
   "outputs": [
    {
     "data": {
      "text/plain": [
       "(3322, 3322)"
      ]
     },
     "execution_count": 113,
     "metadata": {},
     "output_type": "execute_result"
    }
   ],
   "source": [
    "len(coef.ravel()), len(feature_names) "
   ]
  },
  {
   "cell_type": "code",
   "execution_count": 114,
   "id": "abdc41f8",
   "metadata": {},
   "outputs": [
    {
     "data": {
      "image/png": "[encoded data removed]",
      "text/plain": [
       "<Figure size 1500x500 with 1 Axes>"
      ]
     },
     "metadata": {},
     "output_type": "display_data"
    }
   ],
   "source": [
    "# Visualizing only the trigrams\n",
    "# find 2-gram features\n",
    "mask = np.array([len(feature.split(\" \")) for feature in feature_names]) == 2\n",
    "\n",
    "LR1.fit(CV.fit_transform(X), y)\n",
    "coef = LR1.coef_\n",
    "\n",
    "# visualize only 2-gram features\n",
    "mglearn.tools.visualize_coefficients(coef.ravel()[mask], feature_names[mask], n_top_features=25)"
   ]
  },
  {
   "cell_type": "code",
   "execution_count": null,
   "id": "71fde9e8",
   "metadata": {},
   "outputs": [],
   "source": []
  },
  {
   "cell_type": "code",
   "execution_count": null,
   "id": "1a9791e2",
   "metadata": {},
   "outputs": [],
   "source": []
  },
  {
   "cell_type": "code",
   "execution_count": 134,
   "id": "68c3645d",
   "metadata": {},
   "outputs": [
    {
     "ename": "IndexError",
     "evalue": "boolean index did not match indexed array along dimension 0; dimension is 3871 but corresponding boolean dimension is 3322",
     "output_type": "error",
     "traceback": [
      "\u001b[1;31m---------------------------------------------------------------------------\u001b[0m",
      "\u001b[1;31mIndexError\u001b[0m                                Traceback (most recent call last)",
      "Cell \u001b[1;32mIn[134], line 2\u001b[0m\n\u001b[0;32m      1\u001b[0m mask_tri \u001b[38;5;241m=\u001b[39m np\u001b[38;5;241m.\u001b[39marray([\u001b[38;5;28mlen\u001b[39m(feature\u001b[38;5;241m.\u001b[39msplit(\u001b[38;5;124m\"\u001b[39m\u001b[38;5;124m \u001b[39m\u001b[38;5;124m\"\u001b[39m)) \u001b[38;5;28;01mfor\u001b[39;00m feature \u001b[38;5;129;01min\u001b[39;00m feature_names]) \u001b[38;5;241m==\u001b[39m \u001b[38;5;241m3\u001b[39m\n\u001b[1;32m----> 2\u001b[0m mglearn\u001b[38;5;241m.\u001b[39mtools\u001b[38;5;241m.\u001b[39mvisualize_coefficients(\u001b[43mcoef\u001b[49m\u001b[38;5;241;43m.\u001b[39;49m\u001b[43mravel\u001b[49m\u001b[43m(\u001b[49m\u001b[43m)\u001b[49m\u001b[43m[\u001b[49m\u001b[43mmask_tri\u001b[49m\u001b[43m]\u001b[49m, feature_names[mask_tri], n_top_features\u001b[38;5;241m=\u001b[39m\u001b[38;5;241m25\u001b[39m)\n",
      "\u001b[1;31mIndexError\u001b[0m: boolean index did not match indexed array along dimension 0; dimension is 3871 but corresponding boolean dimension is 3322"
     ]
    }
   ],
   "source": [
    "# Visualizing only the trigrams\n",
    "# find 3-gram features\n",
    "mask = np.array([len(feature.split(\" \")) for feature in feature_names]) == 3\n",
    "LR2 = LogisticRegression(class_weight='balanced', solver='liblinear', penalty='l2', C=0.4)\n",
    "LR2.fit(CV.fit_transform(X), y)\n",
    "# coef = LR1.coef_\n",
    "\n",
    "# visualize only 2-gram features\n",
    "mglearn.tools.visualize_coefficients(coef.ravel()[mask], feature_names[mask], n_top_features=25)"
   ]
  },
  {
   "cell_type": "code",
   "execution_count": null,
   "id": "a352bfd4",
   "metadata": {},
   "outputs": [],
   "source": []
  },
  {
   "cell_type": "code",
   "execution_count": null,
   "id": "bfd0d534",
   "metadata": {},
   "outputs": [],
   "source": []
  },
  {
   "cell_type": "code",
   "execution_count": 116,
   "id": "0bd6cbc9",
   "metadata": {},
   "outputs": [],
   "source": [
    "data.to_pickle(\"tweets_cleaned.pkl\")"
   ]
  },
  {
   "cell_type": "code",
   "execution_count": null,
   "id": "666a82ef",
   "metadata": {},
   "outputs": [],
   "source": []
  },
  {
   "cell_type": "code",
   "execution_count": null,
   "id": "4bdde8f5",
   "metadata": {},
   "outputs": [],
   "source": []
  }
 ],
 "metadata": {
  "kernelspec": {
   "display_name": "Python 3 (ipykernel)",
   "language": "python",
   "name": "python3"
  },
  "language_info": {
   "codemirror_mode": {
    "name": "ipython",
    "version": 3
   },
   "file_extension": ".py",
   "mimetype": "text/x-python",
   "name": "python",
   "nbconvert_exporter": "python",
   "pygments_lexer": "ipython3",
   "version": "3.11.3"
  }
 },
 "nbformat": 4,
 "nbformat_minor": 5
}
